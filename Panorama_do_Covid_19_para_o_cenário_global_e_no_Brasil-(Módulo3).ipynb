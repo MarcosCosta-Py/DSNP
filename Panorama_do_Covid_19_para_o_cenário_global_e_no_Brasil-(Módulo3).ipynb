{
  "nbformat": 4,
  "nbformat_minor": 0,
  "metadata": {
    "colab": {
      "name": "Panorama do Covid-19 para o  cenário global e no Brasil.ipynb",
      "provenance": [],
      "collapsed_sections": [],
      "include_colab_link": true
    },
    "kernelspec": {
      "name": "python3",
      "display_name": "Python 3"
    }
  },
  "cells": [
    {
      "cell_type": "markdown",
      "metadata": {
        "id": "view-in-github",
        "colab_type": "text"
      },
      "source": [
        "<a href=\"https://colab.research.google.com/github/MarcosCosta-Py/DSNP/blob/master/Panorama_do_Covid_19_para_o_cen%C3%A1rio_global_e_no_Brasil-(M%C3%B3dulo3).ipynb\" target=\"_parent\"><img src=\"https://colab.research.google.com/assets/colab-badge.svg\" alt=\"Open In Colab\"/></a>"
      ]
    },
    {
      "cell_type": "markdown",
      "metadata": {
        "id": "kLI0gJtzDGuQ",
        "colab_type": "text"
      },
      "source": [
        "# **Panorama do Covid-19 para o cenário global e no Brasil**\n",
        "\n",
        "<img alt=\"Colaboratory logo\" width=\"70%\" src=\"https://odia.ig.com.br/_midias/jpg/2020/06/14//696x390/1_imagem_computadorizada_do_coronavirus___reproducao_da_internet-17705234.jpg\">\n",
        "\n",
        "*by [Marcos Costa](https://www.linkedin.com/in/marcos-costa-4058b1167/)*\n",
        "\n",
        "------\n",
        "\n",
        "O novo coronavírus, assim também conhecido, teve origem no fim do ano de 2019 na cidade de *Wuhan, na China*. Apesar de diversos estudos e investigações, ainda não se tem claramente como ocorreu a mutação que permitiu o surgimento dessa doença.\n",
        "\n",
        "A transmissão do Covid-19 acontece através de uma pessoa contaminada que entra em contato com outra, por meio de aperto de mão, abraços, gotículas salivares de espirros ou tosses e compartilhamento de objetos ou superfícies contaminadas, como celulares, mesas, maçanetas, entre outros.\n",
        "\n",
        "Com relação a gravidade dos sintomas, tem-se uma variação entre os indivíduos que contraem a doença, que pode ser determinados por outros fatores de saúde, como a presença ou não de problemas respiratórios e a idade.\n",
        "\n",
        "Até o presente momento, observa-se que cerca de 80% dos casos confirmados são assintomáticos e rápidos. A maioria das pessoas que se encaixam nesse grupo, se recupera sem nenhuma sequela, segundo estudos atuais, pode ser que isso mude com o tempo.\n",
        "\n",
        "No entanto, 15% das pessoas terão infecções graves e precisarão de oxigênio. O restante das pessoas, que representam 5%, serão classificadas como infecções muito graves e precisarão de ventilação assistida, por meio de respiradores mecânicos em ambiente hospitalar.\n",
        "\n",
        "[Fonte](https://g1.globo.com/bemestar/coronavirus/noticia/2020/02/27/qual-e-a-origem-do-novo-coronavirus.ghtml)"
      ]
    },
    {
      "cell_type": "markdown",
      "metadata": {
        "id": "7Do9gKzpjAxk",
        "colab_type": "text"
      },
      "source": [
        "## **Objetivo de estudo**\n",
        "\n",
        "Através da elaboração desse projeto, que consistirá em uma análise descritiva e exploratória dos dados, tenho como objetivo elevar a consciência situacional a respeito do COVID-19 no cenário global e no Brasil, para contribuir com estudos a cerca do tema, em busca de soluções que agreguem valor a sociedade."
      ]
    },
    {
      "cell_type": "markdown",
      "metadata": {
        "id": "0zxQHhIUDF_2",
        "colab_type": "text"
      },
      "source": [
        "## **Obtenção dos Dados**\n",
        "\n",
        "Em meio a pandemia do novo coronavírus e com sua rápida expansão, temos uma gigantesca produção de dados referente a essa doença. Apesar disso tudo, a cultura de dados no Brasil não é das melhores, portando dificuldade em manter uma fonte única e absoluta das informações. Os arquivos podem ser encontradas em diversos locais e com vários formatos, por serem coletados através de diferentes meios, tais como, imprensa, governo federal e/ou estadual, prefeituras e secretarias.\n",
        "\n",
        "Com isso, utilizaremos a base de dados disponibilizada pelo site [Our World in Data](https://ourworldindata.org/coronavirus), que é bastante completa e traz dados do *COVID-19* no mundo de forma atualizada até o momento de execução do projeto.\n",
        "\n"
      ]
    },
    {
      "cell_type": "markdown",
      "metadata": {
        "id": "vPvhF3MwI6AJ",
        "colab_type": "text"
      },
      "source": [
        "## **Dicionário das variáveis**\n",
        "\n",
        "* `iso_code` - códigos de três letras dos países\n",
        "* `continent` - continente\n",
        "* `location` - localização geográfica\n",
        "* `date` - data da observação\n",
        "* `total_cases` - total de casos confirmados\n",
        "* `new_cases` - novos casos confirmados\n",
        "* `total_deaths` - total de mortes atribuídas à COVID-19\n",
        "* `new_deaths` - novas mortes atribuídas à COVID-19\n",
        "* `total_cases_per_million` - total de casos confirmados por 1.000.000 de pessoas\n",
        "* `new_cases_per_million` - novos casos confirmados por 1.000.000 de pessoas\n",
        "* `total_deaths_per_million` - total de mortes por 1.000.000 de pessoas\n",
        "* `new_deaths_per_million` - novas mortes atribuídas por 1.000.000 de pessoas\n",
        "* `total_tests` - testes totais para a COVID-19\n",
        "* `new_tests` - novos testes para a COVID-19\n",
        "* `new_tests_smoothed` - novos testes (7 dias suavizados), para países que não relatam dados de testes diariamente.\n",
        "* `total_tests_per_thousand` - testes totais por 1.000 pessoas\n",
        "* `new_tests_per_thousand` - novos testes por 1.000 pessoas\n",
        "* `new_tests_smoothed_per_thousand` - novos testes (7 dias suavizados) por 1.000 pessoas\n",
        "* `tests_units` - unidades utilizadas pelo local para reportar seus dados de teste\n",
        "* `stringency_index` - índice de Estringência de Resposta do Governo: medida baseada em 9 indicadores de resposta, incluindo fechamento de escolas, fechamento de locais de trabalho e proibição de viagens, redimensionada para um valor de 0 a 100 (100 = resposta mais estrita)\n",
        "* `population` - população em 2020\n",
        "* `population_density` - número de pessoas dividido por área de terreno, medido em quilômetros quadrados\n",
        "* `median_age` - idade média da população, projeção da ONU para 2020\n",
        "* `aged_65_older` - parte da população com 65 anos de idade ou mais\n",
        "* `aged_70_older` - participação da população com 70 anos de idade ou mais em 2015\n",
        "* `gdp_per_capita` - produto interno bruto em paridade de poder de compra (dólar internacional constante em 2011)\n",
        "* `extreme_poverty` - participação da população vivendo em extrema pobreza, ano mais recente disponível desde 2010\n",
        "* `cvd_death_rate` - taxa de mortalidade por doenças cardiovasculares em 2017\n",
        "* `diabetes_prevalence` - prevalência de diabetes (% da população de 20 a 79 anos de idade) em 2017\n",
        "* `female_smokers` - participação de mulheres que fumam\n",
        "* `male_smokers` - participação de homens que fumam\n",
        "* `handwashing_facilities` - parte da população com instrumentos básicos de lavagem de mãos nas instalações\n",
        "* `hospital_beds_per_thousand` - leitos hospitalares por 1.000 pessoas, o ano mais recente disponível desde 2010\n",
        "* `life_expectancy` - expectativa de vida ao nascer em 2019\n"
      ]
    },
    {
      "cell_type": "markdown",
      "metadata": {
        "id": "kTMxn1P4Z5EY",
        "colab_type": "text"
      },
      "source": [
        "## **Importando os dados do COVID-19**\n",
        "\n",
        "* Através deste [link](https://github.com/owid/covid-19-data/tree/master/public/data) é possível baixar as últimas atualizações da bases de dados do Covid-19 no mundo.\n",
        "\n",
        "* Neste projeto, utilizaremos as informações disponíveis até o dia 02 de julho de 2020, em formato `csv`, que pode ser acessada pelo seguinte endereço: [owid-covid-data-02-07-2020](https://raw.githubusercontent.com/MarcosCosta-Py/DSNP/master/owid-covid-data-02-07-2020.csv)\n",
        "\n",
        "* Inicialmente vamos importar as bibliotecas necessárias, tais como:\n",
        "  \n",
        "  * Pandas: para a manipulação e análise dos dados\n",
        "  * Numpy: para operações matemáticas\n",
        "  * Seaborn e Matplotlib: para visualização dos dados através de gráficos altamente representativos\n",
        "\n",
        "* Em seguida, usaremos o comando `pd.read_csv()` para carregar o arquivo e salvar em uma variável `df`.\n"
      ]
    },
    {
      "cell_type": "code",
      "metadata": {
        "id": "C1hyQjX4LvMP",
        "colab_type": "code",
        "colab": {
          "base_uri": "https://localhost:8080/",
          "height": 51
        },
        "outputId": "edc7f91a-43d1-40d6-b8a1-0de3421db889"
      },
      "source": [
        "# importar pacotes necessários\n",
        "import pandas as pd\n",
        "import numpy as np\n",
        "import matplotlib.pyplot as plt\n",
        "import seaborn as sns\n",
        "\n",
        "%matplotlib inline"
      ],
      "execution_count": null,
      "outputs": [
        {
          "output_type": "stream",
          "text": [
            "/usr/local/lib/python3.6/dist-packages/statsmodels/tools/_testing.py:19: FutureWarning: pandas.util.testing is deprecated. Use the functions in the public API at pandas.testing instead.\n",
            "  import pandas.util.testing as tm\n"
          ],
          "name": "stderr"
        }
      ]
    },
    {
      "cell_type": "code",
      "metadata": {
        "id": "JPWSzKzUjAyb",
        "colab_type": "code",
        "colab": {}
      },
      "source": [
        "# carregar o arquivo\n",
        "df = pd.read_csv('https://raw.githubusercontent.com/MarcosCosta-Py/Databases/master/owid-covid-data-02-07-2020.csv')"
      ],
      "execution_count": null,
      "outputs": []
    },
    {
      "cell_type": "markdown",
      "metadata": {
        "id": "_iGGwwFAnWVt",
        "colab_type": "text"
      },
      "source": [
        "## Análise Exploratória dos Dados\n",
        "\n",
        "Esta etapa tem por objetivo criar uma consciência situacional inicial e permitir um entendimento das composições básicas da estrutura do DataFrame."
      ]
    },
    {
      "cell_type": "code",
      "metadata": {
        "id": "2nyP1WCVnyRC",
        "colab_type": "code",
        "colab": {
          "base_uri": "https://localhost:8080/",
          "height": 309
        },
        "outputId": "ef738a9f-eb79-49a9-8900-79b9dc1d7511"
      },
      "source": [
        "# visualizar as 5 primeiras entradas\n",
        "df.head()"
      ],
      "execution_count": null,
      "outputs": [
        {
          "output_type": "execute_result",
          "data": {
            "text/html": [
              "<div>\n",
              "<style scoped>\n",
              "    .dataframe tbody tr th:only-of-type {\n",
              "        vertical-align: middle;\n",
              "    }\n",
              "\n",
              "    .dataframe tbody tr th {\n",
              "        vertical-align: top;\n",
              "    }\n",
              "\n",
              "    .dataframe thead th {\n",
              "        text-align: right;\n",
              "    }\n",
              "</style>\n",
              "<table border=\"1\" class=\"dataframe\">\n",
              "  <thead>\n",
              "    <tr style=\"text-align: right;\">\n",
              "      <th></th>\n",
              "      <th>iso_code</th>\n",
              "      <th>continent</th>\n",
              "      <th>location</th>\n",
              "      <th>date</th>\n",
              "      <th>total_cases</th>\n",
              "      <th>new_cases</th>\n",
              "      <th>total_deaths</th>\n",
              "      <th>new_deaths</th>\n",
              "      <th>total_cases_per_million</th>\n",
              "      <th>new_cases_per_million</th>\n",
              "      <th>total_deaths_per_million</th>\n",
              "      <th>new_deaths_per_million</th>\n",
              "      <th>total_tests</th>\n",
              "      <th>new_tests</th>\n",
              "      <th>total_tests_per_thousand</th>\n",
              "      <th>new_tests_per_thousand</th>\n",
              "      <th>new_tests_smoothed</th>\n",
              "      <th>new_tests_smoothed_per_thousand</th>\n",
              "      <th>tests_units</th>\n",
              "      <th>stringency_index</th>\n",
              "      <th>population</th>\n",
              "      <th>population_density</th>\n",
              "      <th>median_age</th>\n",
              "      <th>aged_65_older</th>\n",
              "      <th>aged_70_older</th>\n",
              "      <th>gdp_per_capita</th>\n",
              "      <th>extreme_poverty</th>\n",
              "      <th>cvd_death_rate</th>\n",
              "      <th>diabetes_prevalence</th>\n",
              "      <th>female_smokers</th>\n",
              "      <th>male_smokers</th>\n",
              "      <th>handwashing_facilities</th>\n",
              "      <th>hospital_beds_per_thousand</th>\n",
              "      <th>life_expectancy</th>\n",
              "    </tr>\n",
              "  </thead>\n",
              "  <tbody>\n",
              "    <tr>\n",
              "      <th>0</th>\n",
              "      <td>AFG</td>\n",
              "      <td>Asia</td>\n",
              "      <td>Afghanistan</td>\n",
              "      <td>2019-12-31</td>\n",
              "      <td>0.0</td>\n",
              "      <td>0.0</td>\n",
              "      <td>0.0</td>\n",
              "      <td>0.0</td>\n",
              "      <td>0.0</td>\n",
              "      <td>0.0</td>\n",
              "      <td>0.0</td>\n",
              "      <td>0.0</td>\n",
              "      <td>NaN</td>\n",
              "      <td>NaN</td>\n",
              "      <td>NaN</td>\n",
              "      <td>NaN</td>\n",
              "      <td>NaN</td>\n",
              "      <td>NaN</td>\n",
              "      <td>NaN</td>\n",
              "      <td>NaN</td>\n",
              "      <td>38928341.0</td>\n",
              "      <td>54.422</td>\n",
              "      <td>18.6</td>\n",
              "      <td>2.581</td>\n",
              "      <td>1.337</td>\n",
              "      <td>1803.987</td>\n",
              "      <td>NaN</td>\n",
              "      <td>597.029</td>\n",
              "      <td>9.59</td>\n",
              "      <td>NaN</td>\n",
              "      <td>NaN</td>\n",
              "      <td>37.746</td>\n",
              "      <td>0.5</td>\n",
              "      <td>64.83</td>\n",
              "    </tr>\n",
              "    <tr>\n",
              "      <th>1</th>\n",
              "      <td>AFG</td>\n",
              "      <td>Asia</td>\n",
              "      <td>Afghanistan</td>\n",
              "      <td>2020-01-01</td>\n",
              "      <td>0.0</td>\n",
              "      <td>0.0</td>\n",
              "      <td>0.0</td>\n",
              "      <td>0.0</td>\n",
              "      <td>0.0</td>\n",
              "      <td>0.0</td>\n",
              "      <td>0.0</td>\n",
              "      <td>0.0</td>\n",
              "      <td>NaN</td>\n",
              "      <td>NaN</td>\n",
              "      <td>NaN</td>\n",
              "      <td>NaN</td>\n",
              "      <td>NaN</td>\n",
              "      <td>NaN</td>\n",
              "      <td>NaN</td>\n",
              "      <td>0.0</td>\n",
              "      <td>38928341.0</td>\n",
              "      <td>54.422</td>\n",
              "      <td>18.6</td>\n",
              "      <td>2.581</td>\n",
              "      <td>1.337</td>\n",
              "      <td>1803.987</td>\n",
              "      <td>NaN</td>\n",
              "      <td>597.029</td>\n",
              "      <td>9.59</td>\n",
              "      <td>NaN</td>\n",
              "      <td>NaN</td>\n",
              "      <td>37.746</td>\n",
              "      <td>0.5</td>\n",
              "      <td>64.83</td>\n",
              "    </tr>\n",
              "    <tr>\n",
              "      <th>2</th>\n",
              "      <td>AFG</td>\n",
              "      <td>Asia</td>\n",
              "      <td>Afghanistan</td>\n",
              "      <td>2020-01-02</td>\n",
              "      <td>0.0</td>\n",
              "      <td>0.0</td>\n",
              "      <td>0.0</td>\n",
              "      <td>0.0</td>\n",
              "      <td>0.0</td>\n",
              "      <td>0.0</td>\n",
              "      <td>0.0</td>\n",
              "      <td>0.0</td>\n",
              "      <td>NaN</td>\n",
              "      <td>NaN</td>\n",
              "      <td>NaN</td>\n",
              "      <td>NaN</td>\n",
              "      <td>NaN</td>\n",
              "      <td>NaN</td>\n",
              "      <td>NaN</td>\n",
              "      <td>0.0</td>\n",
              "      <td>38928341.0</td>\n",
              "      <td>54.422</td>\n",
              "      <td>18.6</td>\n",
              "      <td>2.581</td>\n",
              "      <td>1.337</td>\n",
              "      <td>1803.987</td>\n",
              "      <td>NaN</td>\n",
              "      <td>597.029</td>\n",
              "      <td>9.59</td>\n",
              "      <td>NaN</td>\n",
              "      <td>NaN</td>\n",
              "      <td>37.746</td>\n",
              "      <td>0.5</td>\n",
              "      <td>64.83</td>\n",
              "    </tr>\n",
              "    <tr>\n",
              "      <th>3</th>\n",
              "      <td>AFG</td>\n",
              "      <td>Asia</td>\n",
              "      <td>Afghanistan</td>\n",
              "      <td>2020-01-03</td>\n",
              "      <td>0.0</td>\n",
              "      <td>0.0</td>\n",
              "      <td>0.0</td>\n",
              "      <td>0.0</td>\n",
              "      <td>0.0</td>\n",
              "      <td>0.0</td>\n",
              "      <td>0.0</td>\n",
              "      <td>0.0</td>\n",
              "      <td>NaN</td>\n",
              "      <td>NaN</td>\n",
              "      <td>NaN</td>\n",
              "      <td>NaN</td>\n",
              "      <td>NaN</td>\n",
              "      <td>NaN</td>\n",
              "      <td>NaN</td>\n",
              "      <td>0.0</td>\n",
              "      <td>38928341.0</td>\n",
              "      <td>54.422</td>\n",
              "      <td>18.6</td>\n",
              "      <td>2.581</td>\n",
              "      <td>1.337</td>\n",
              "      <td>1803.987</td>\n",
              "      <td>NaN</td>\n",
              "      <td>597.029</td>\n",
              "      <td>9.59</td>\n",
              "      <td>NaN</td>\n",
              "      <td>NaN</td>\n",
              "      <td>37.746</td>\n",
              "      <td>0.5</td>\n",
              "      <td>64.83</td>\n",
              "    </tr>\n",
              "    <tr>\n",
              "      <th>4</th>\n",
              "      <td>AFG</td>\n",
              "      <td>Asia</td>\n",
              "      <td>Afghanistan</td>\n",
              "      <td>2020-01-04</td>\n",
              "      <td>0.0</td>\n",
              "      <td>0.0</td>\n",
              "      <td>0.0</td>\n",
              "      <td>0.0</td>\n",
              "      <td>0.0</td>\n",
              "      <td>0.0</td>\n",
              "      <td>0.0</td>\n",
              "      <td>0.0</td>\n",
              "      <td>NaN</td>\n",
              "      <td>NaN</td>\n",
              "      <td>NaN</td>\n",
              "      <td>NaN</td>\n",
              "      <td>NaN</td>\n",
              "      <td>NaN</td>\n",
              "      <td>NaN</td>\n",
              "      <td>0.0</td>\n",
              "      <td>38928341.0</td>\n",
              "      <td>54.422</td>\n",
              "      <td>18.6</td>\n",
              "      <td>2.581</td>\n",
              "      <td>1.337</td>\n",
              "      <td>1803.987</td>\n",
              "      <td>NaN</td>\n",
              "      <td>597.029</td>\n",
              "      <td>9.59</td>\n",
              "      <td>NaN</td>\n",
              "      <td>NaN</td>\n",
              "      <td>37.746</td>\n",
              "      <td>0.5</td>\n",
              "      <td>64.83</td>\n",
              "    </tr>\n",
              "  </tbody>\n",
              "</table>\n",
              "</div>"
            ],
            "text/plain": [
              "  iso_code continent  ... hospital_beds_per_thousand life_expectancy\n",
              "0      AFG      Asia  ...                        0.5           64.83\n",
              "1      AFG      Asia  ...                        0.5           64.83\n",
              "2      AFG      Asia  ...                        0.5           64.83\n",
              "3      AFG      Asia  ...                        0.5           64.83\n",
              "4      AFG      Asia  ...                        0.5           64.83\n",
              "\n",
              "[5 rows x 34 columns]"
            ]
          },
          "metadata": {
            "tags": []
          },
          "execution_count": 3
        }
      ]
    },
    {
      "cell_type": "code",
      "metadata": {
        "id": "FHqx02iYGLBj",
        "colab_type": "code",
        "colab": {
          "base_uri": "https://localhost:8080/",
          "height": 221
        },
        "outputId": "4d2df24b-db96-4261-96f8-68ca4c02cf84"
      },
      "source": [
        "# verificar as colunas do dataset\n",
        "df.columns"
      ],
      "execution_count": null,
      "outputs": [
        {
          "output_type": "execute_result",
          "data": {
            "text/plain": [
              "Index(['iso_code', 'continent', 'location', 'date', 'total_cases', 'new_cases',\n",
              "       'total_deaths', 'new_deaths', 'total_cases_per_million',\n",
              "       'new_cases_per_million', 'total_deaths_per_million',\n",
              "       'new_deaths_per_million', 'total_tests', 'new_tests',\n",
              "       'total_tests_per_thousand', 'new_tests_per_thousand',\n",
              "       'new_tests_smoothed', 'new_tests_smoothed_per_thousand', 'tests_units',\n",
              "       'stringency_index', 'population', 'population_density', 'median_age',\n",
              "       'aged_65_older', 'aged_70_older', 'gdp_per_capita', 'extreme_poverty',\n",
              "       'cvd_death_rate', 'diabetes_prevalence', 'female_smokers',\n",
              "       'male_smokers', 'handwashing_facilities', 'hospital_beds_per_thousand',\n",
              "       'life_expectancy'],\n",
              "      dtype='object')"
            ]
          },
          "metadata": {
            "tags": []
          },
          "execution_count": 4
        }
      ]
    },
    {
      "cell_type": "code",
      "metadata": {
        "id": "7PCWOvTYn1Kw",
        "colab_type": "code",
        "colab": {
          "base_uri": "https://localhost:8080/",
          "height": 34
        },
        "outputId": "66f93974-f5d4-4fdc-f831-5abf4ef17361"
      },
      "source": [
        "# Verificar o tamanho do df\n",
        "df.shape"
      ],
      "execution_count": null,
      "outputs": [
        {
          "output_type": "execute_result",
          "data": {
            "text/plain": [
              "(27600, 34)"
            ]
          },
          "metadata": {
            "tags": []
          },
          "execution_count": 5
        }
      ]
    },
    {
      "cell_type": "code",
      "metadata": {
        "id": "uvn618E8oNaH",
        "colab_type": "code",
        "colab": {
          "base_uri": "https://localhost:8080/",
          "height": 714
        },
        "outputId": "4f4e39b5-8158-4f26-f148-82cddfa94498"
      },
      "source": [
        "# verificar as informações gerais do dataset\n",
        "df.info()"
      ],
      "execution_count": null,
      "outputs": [
        {
          "output_type": "stream",
          "text": [
            "<class 'pandas.core.frame.DataFrame'>\n",
            "RangeIndex: 27600 entries, 0 to 27599\n",
            "Data columns (total 34 columns):\n",
            " #   Column                           Non-Null Count  Dtype  \n",
            "---  ------                           --------------  -----  \n",
            " 0   iso_code                         27536 non-null  object \n",
            " 1   continent                        27351 non-null  object \n",
            " 2   location                         27600 non-null  object \n",
            " 3   date                             27600 non-null  object \n",
            " 4   total_cases                      27376 non-null  float64\n",
            " 5   new_cases                        27376 non-null  float64\n",
            " 6   total_deaths                     27376 non-null  float64\n",
            " 7   new_deaths                       27376 non-null  float64\n",
            " 8   total_cases_per_million          27312 non-null  float64\n",
            " 9   new_cases_per_million            27312 non-null  float64\n",
            " 10  total_deaths_per_million         27312 non-null  float64\n",
            " 11  new_deaths_per_million           27312 non-null  float64\n",
            " 12  total_tests                      8128 non-null   float64\n",
            " 13  new_tests                        7682 non-null   float64\n",
            " 14  total_tests_per_thousand         8128 non-null   float64\n",
            " 15  new_tests_per_thousand           7682 non-null   float64\n",
            " 16  new_tests_smoothed               8710 non-null   float64\n",
            " 17  new_tests_smoothed_per_thousand  8710 non-null   float64\n",
            " 18  tests_units                      9336 non-null   object \n",
            " 19  stringency_index                 22111 non-null  float64\n",
            " 20  population                       27536 non-null  float64\n",
            " 21  population_density               26391 non-null  float64\n",
            " 22  median_age                       24919 non-null  float64\n",
            " 23  aged_65_older                    24565 non-null  float64\n",
            " 24  aged_70_older                    24791 non-null  float64\n",
            " 25  gdp_per_capita                   24635 non-null  float64\n",
            " 26  extreme_poverty                  16466 non-null  float64\n",
            " 27  cvd_death_rate                   24949 non-null  float64\n",
            " 28  diabetes_prevalence              25761 non-null  float64\n",
            " 29  female_smokers                   19959 non-null  float64\n",
            " 30  male_smokers                     19727 non-null  float64\n",
            " 31  handwashing_facilities           11280 non-null  float64\n",
            " 32  hospital_beds_per_thousand       22787 non-null  float64\n",
            " 33  life_expectancy                  27215 non-null  float64\n",
            "dtypes: float64(29), object(5)\n",
            "memory usage: 7.2+ MB\n"
          ],
          "name": "stdout"
        }
      ]
    },
    {
      "cell_type": "code",
      "metadata": {
        "id": "1WuVVCLFNLMg",
        "colab_type": "code",
        "colab": {}
      },
      "source": [
        "# converter o tipo a coluna data para 'datetime'\n",
        "df['date'] = pd.to_datetime(df['date'])"
      ],
      "execution_count": null,
      "outputs": []
    },
    {
      "cell_type": "code",
      "metadata": {
        "id": "uBgO1a18ucM-",
        "colab_type": "code",
        "colab": {
          "base_uri": "https://localhost:8080/",
          "height": 612
        },
        "outputId": "8024bd38-8bfb-4033-b93f-b0952a7421d6"
      },
      "source": [
        "# verificar a porcentagem de dados ausentes por colunas\n",
        "round((df.isnull().sum()/len(df))*100,2).sort_values(ascending=False)"
      ],
      "execution_count": null,
      "outputs": [
        {
          "output_type": "execute_result",
          "data": {
            "text/plain": [
              "new_tests                          72.17\n",
              "new_tests_per_thousand             72.17\n",
              "total_tests_per_thousand           70.55\n",
              "total_tests                        70.55\n",
              "new_tests_smoothed_per_thousand    68.44\n",
              "new_tests_smoothed                 68.44\n",
              "tests_units                        66.17\n",
              "handwashing_facilities             59.13\n",
              "extreme_poverty                    40.34\n",
              "male_smokers                       28.53\n",
              "female_smokers                     27.68\n",
              "stringency_index                   19.89\n",
              "hospital_beds_per_thousand         17.44\n",
              "aged_65_older                      11.00\n",
              "gdp_per_capita                     10.74\n",
              "aged_70_older                      10.18\n",
              "median_age                          9.71\n",
              "cvd_death_rate                      9.61\n",
              "diabetes_prevalence                 6.66\n",
              "population_density                  4.38\n",
              "life_expectancy                     1.39\n",
              "new_deaths_per_million              1.04\n",
              "total_deaths_per_million            1.04\n",
              "new_cases_per_million               1.04\n",
              "total_cases_per_million             1.04\n",
              "continent                           0.90\n",
              "new_deaths                          0.81\n",
              "total_deaths                        0.81\n",
              "new_cases                           0.81\n",
              "total_cases                         0.81\n",
              "population                          0.23\n",
              "iso_code                            0.23\n",
              "date                                0.00\n",
              "location                            0.00\n",
              "dtype: float64"
            ]
          },
          "metadata": {
            "tags": []
          },
          "execution_count": 8
        }
      ]
    },
    {
      "cell_type": "markdown",
      "metadata": {
        "id": "STv5ZjJiu0cr",
        "colab_type": "text"
      },
      "source": [
        "As variáveis que trazem informações referentes aos *testes* realizados para o coronovírus são as que mais possuem valores não preenchidos no arquivo, tendo uma variação de ausência que vai de 66.17% dos dados até 72.17%."
      ]
    },
    {
      "cell_type": "code",
      "metadata": {
        "id": "fZUG_NnR40s5",
        "colab_type": "code",
        "colab": {
          "base_uri": "https://localhost:8080/",
          "height": 221
        },
        "outputId": "065bb00c-87db-442a-81cf-f18e768cc090"
      },
      "source": [
        "# os países que aparacem com maior frquencia, tem dados disponibilizados de 185 dias e o país com menor frequeência é hong kong, possivelmente porque já deve ter o controle sobre a doença\n",
        "df['location'].value_counts()"
      ],
      "execution_count": null,
      "outputs": [
        {
          "output_type": "execute_result",
          "data": {
            "text/plain": [
              "Australia        185\n",
              "Canada           185\n",
              "Denmark          185\n",
              "South Korea      185\n",
              "Italy            185\n",
              "                ... \n",
              "International     64\n",
              "Tajikistan        63\n",
              "Comoros           62\n",
              "Lesotho           49\n",
              "Hong Kong          6\n",
              "Name: location, Length: 212, dtype: int64"
            ]
          },
          "metadata": {
            "tags": []
          },
          "execution_count": 9
        }
      ]
    },
    {
      "cell_type": "markdown",
      "metadata": {
        "id": "NKYaa1dnPqBO",
        "colab_type": "text"
      },
      "source": [
        "Analisando a tabela acima, vemos informações que não são referentes a países em específico, como são os casos dos valores para `World` e `International`. Com isso, iremos utilizar o dataset sem essas informações."
      ]
    },
    {
      "cell_type": "code",
      "metadata": {
        "id": "Hc_gphF0QNvd",
        "colab_type": "code",
        "colab": {}
      },
      "source": [
        "# copiar o dataset para realizar as alterações\n",
        "df1 = df.copy()"
      ],
      "execution_count": null,
      "outputs": []
    },
    {
      "cell_type": "code",
      "metadata": {
        "id": "bETW3BVlRAUP",
        "colab_type": "code",
        "colab": {}
      },
      "source": [
        "# excluir as informações que não são de interesse para o novo dataset\n",
        "df1.drop(range(27351,27600,1), axis=0, inplace=True)"
      ],
      "execution_count": null,
      "outputs": []
    },
    {
      "cell_type": "code",
      "metadata": {
        "id": "c1gCDIzjSaHK",
        "colab_type": "code",
        "colab": {
          "base_uri": "https://localhost:8080/",
          "height": 34
        },
        "outputId": "7a2f89e7-dbf6-43f9-e048-ef44b1e72f52"
      },
      "source": [
        "# verificar o tamanho do DataFrame alterado\n",
        "df1.shape"
      ],
      "execution_count": null,
      "outputs": [
        {
          "output_type": "execute_result",
          "data": {
            "text/plain": [
              "(27351, 34)"
            ]
          },
          "metadata": {
            "tags": []
          },
          "execution_count": 12
        }
      ]
    },
    {
      "cell_type": "code",
      "metadata": {
        "id": "Ax3JVb9y40pw",
        "colab_type": "code",
        "colab": {
          "base_uri": "https://localhost:8080/",
          "height": 221
        },
        "outputId": "42035f91-230b-44ad-9318-c38029b4f6cf"
      },
      "source": [
        "# verificar as datas que mais aparecem\n",
        "df1['date'].value_counts()"
      ],
      "execution_count": null,
      "outputs": [
        {
          "output_type": "execute_result",
          "data": {
            "text/plain": [
              "2020-05-31    210\n",
              "2020-06-22    210\n",
              "2020-05-23    209\n",
              "2020-05-16    209\n",
              "2020-06-06    209\n",
              "             ... \n",
              "2020-01-06     66\n",
              "2020-01-30     66\n",
              "2020-03-04     62\n",
              "2020-03-05     61\n",
              "2020-03-03     53\n",
              "Name: date, Length: 185, dtype: int64"
            ]
          },
          "metadata": {
            "tags": []
          },
          "execution_count": 13
        }
      ]
    },
    {
      "cell_type": "markdown",
      "metadata": {
        "id": "zi2cUDR8Av8l",
        "colab_type": "text"
      },
      "source": [
        "O período de coleta dos dados usados no projeto tem um intevalo de 185 dias, que inciou-se em 31/12/2019 e terminou dia 02/07/2020. Com isso, podemos perceber que as datas que tiveram mais participação dos países foram 31/05/2020 e 22/06/2020, ao qual todos os locais forneceram dados nesses dois dias.\n",
        "\n",
        "Percebe-se também, que as datas que tiveram menos coletas de informações, estão no período do dia 03/03/2020 à 05/03/2020, com a participação dos paises variando de 53 a 62 dias."
      ]
    },
    {
      "cell_type": "code",
      "metadata": {
        "id": "STHc4YEpVJMK",
        "colab_type": "code",
        "colab": {
          "base_uri": "https://localhost:8080/",
          "height": 221
        },
        "outputId": "2df95223-9471-444c-81ba-4918160c54f9"
      },
      "source": [
        "# verificar os locais com mais frequência\n",
        "df1['location'].value_counts()"
      ],
      "execution_count": null,
      "outputs": [
        {
          "output_type": "execute_result",
          "data": {
            "text/plain": [
              "China             185\n",
              "Greece            185\n",
              "Vietnam           185\n",
              "Denmark           185\n",
              "France            185\n",
              "                 ... \n",
              "Western Sahara     68\n",
              "Tajikistan         63\n",
              "Comoros            62\n",
              "Lesotho            49\n",
              "Hong Kong           6\n",
              "Name: location, Length: 210, dtype: int64"
            ]
          },
          "metadata": {
            "tags": []
          },
          "execution_count": 14
        }
      ]
    },
    {
      "cell_type": "code",
      "metadata": {
        "id": "Y12b_iExI7Tb",
        "colab_type": "code",
        "colab": {
          "base_uri": "https://localhost:8080/",
          "height": 51
        },
        "outputId": "9f34c268-8181-4c3e-d195-fb6d12d02317"
      },
      "source": [
        "count = 0\n",
        "for i in range(len(df1['location'].value_counts())):\n",
        "  if df1['location'].value_counts()[i] == 185:\n",
        "    count = count+1\n",
        "    if df1['location'].value_counts().index[i] == \"Brazil\":\n",
        "      print(\"O Brasil forneceu dados durante os 185 dias de coleta\")\n",
        "\n",
        "print(\"E há {} países no total, que forneceram dados durante os 185 dias\".format(count))"
      ],
      "execution_count": null,
      "outputs": [
        {
          "output_type": "stream",
          "text": [
            "O Brasil forneceu dados durante os 185 dias de coleta\n",
            "E há 34 países no total, que forneceram dados durante os 185 dias\n"
          ],
          "name": "stdout"
        }
      ]
    },
    {
      "cell_type": "markdown",
      "metadata": {
        "id": "cP34DV4iIsCM",
        "colab_type": "text"
      },
      "source": [
        "Com base nas infomações acima, podemos verificar que há 34 países que contribuiram com o fornecimento de dados durante os 185 dias de coletas, entre eles está o *Brasil*, ou seja, possivelmente são os lugares mais afetados pela doença. Já o local que teve menos participação foi *Hong Kong* (ex-colônia britânica, que hoje é um território autônomo no sudeste da China), que apesar de estar próximo ao local que surgiu a doença, adotou medidas de controle eficaz na luta contra a proliferação do vírus."
      ]
    },
    {
      "cell_type": "code",
      "metadata": {
        "id": "aPaZYcS65abL",
        "colab_type": "code",
        "colab": {
          "base_uri": "https://localhost:8080/",
          "height": 102
        },
        "outputId": "af5a19ec-53b8-4fae-c5c2-aeedf35cd747"
      },
      "source": [
        "# Verificar as unidades usadas pelos locais para reportar os dados de teste\n",
        "df1['tests_units'].value_counts()"
      ],
      "execution_count": null,
      "outputs": [
        {
          "output_type": "execute_result",
          "data": {
            "text/plain": [
              "tests performed    4020\n",
              "people tested      2530\n",
              "samples tested     1814\n",
              "units unclear       972\n",
              "Name: tests_units, dtype: int64"
            ]
          },
          "metadata": {
            "tags": []
          },
          "execution_count": 16
        }
      ]
    },
    {
      "cell_type": "markdown",
      "metadata": {
        "id": "5p_VXtwOY8rg",
        "colab_type": "text"
      },
      "source": [
        "Em unidades utilizadas para reportar os dados de testes, verificamos que há 4020 *testes realizados*, 2530 *pessoas testadas*, 1814 *amostras testadas* e 972 *unidades pouco claras*."
      ]
    },
    {
      "cell_type": "markdown",
      "metadata": {
        "id": "4uxqVUlrufqm",
        "colab_type": "text"
      },
      "source": [
        "### Verificar as informações estatísticas para os dados numéricos e categóricos"
      ]
    },
    {
      "cell_type": "code",
      "metadata": {
        "id": "Zj1TEErGufbE",
        "colab_type": "code",
        "colab": {
          "base_uri": "https://localhost:8080/",
          "height": 317
        },
        "outputId": "322f9b75-5db7-474a-f2b9-e08c0c6b15e0"
      },
      "source": [
        "# estatísticas básicas para os dados numéricos\n",
        "round(df1.describe(),2)"
      ],
      "execution_count": null,
      "outputs": [
        {
          "output_type": "execute_result",
          "data": {
            "text/html": [
              "<div>\n",
              "<style scoped>\n",
              "    .dataframe tbody tr th:only-of-type {\n",
              "        vertical-align: middle;\n",
              "    }\n",
              "\n",
              "    .dataframe tbody tr th {\n",
              "        vertical-align: top;\n",
              "    }\n",
              "\n",
              "    .dataframe thead th {\n",
              "        text-align: right;\n",
              "    }\n",
              "</style>\n",
              "<table border=\"1\" class=\"dataframe\">\n",
              "  <thead>\n",
              "    <tr style=\"text-align: right;\">\n",
              "      <th></th>\n",
              "      <th>total_cases</th>\n",
              "      <th>new_cases</th>\n",
              "      <th>total_deaths</th>\n",
              "      <th>new_deaths</th>\n",
              "      <th>total_cases_per_million</th>\n",
              "      <th>new_cases_per_million</th>\n",
              "      <th>total_deaths_per_million</th>\n",
              "      <th>new_deaths_per_million</th>\n",
              "      <th>total_tests</th>\n",
              "      <th>new_tests</th>\n",
              "      <th>total_tests_per_thousand</th>\n",
              "      <th>new_tests_per_thousand</th>\n",
              "      <th>new_tests_smoothed</th>\n",
              "      <th>new_tests_smoothed_per_thousand</th>\n",
              "      <th>stringency_index</th>\n",
              "      <th>population</th>\n",
              "      <th>population_density</th>\n",
              "      <th>median_age</th>\n",
              "      <th>aged_65_older</th>\n",
              "      <th>aged_70_older</th>\n",
              "      <th>gdp_per_capita</th>\n",
              "      <th>extreme_poverty</th>\n",
              "      <th>cvd_death_rate</th>\n",
              "      <th>diabetes_prevalence</th>\n",
              "      <th>female_smokers</th>\n",
              "      <th>male_smokers</th>\n",
              "      <th>handwashing_facilities</th>\n",
              "      <th>hospital_beds_per_thousand</th>\n",
              "      <th>life_expectancy</th>\n",
              "    </tr>\n",
              "  </thead>\n",
              "  <tbody>\n",
              "    <tr>\n",
              "      <th>count</th>\n",
              "      <td>27127.00</td>\n",
              "      <td>27127.00</td>\n",
              "      <td>27127.00</td>\n",
              "      <td>27127.00</td>\n",
              "      <td>27127.00</td>\n",
              "      <td>27127.00</td>\n",
              "      <td>27127.00</td>\n",
              "      <td>27127.00</td>\n",
              "      <td>8128.00</td>\n",
              "      <td>7682.00</td>\n",
              "      <td>8128.00</td>\n",
              "      <td>7682.00</td>\n",
              "      <td>8710.00</td>\n",
              "      <td>8710.00</td>\n",
              "      <td>22111.00</td>\n",
              "      <td>2.735100e+04</td>\n",
              "      <td>26206.00</td>\n",
              "      <td>24734.00</td>\n",
              "      <td>24380.00</td>\n",
              "      <td>24606.00</td>\n",
              "      <td>24450.00</td>\n",
              "      <td>16281.0</td>\n",
              "      <td>24764.00</td>\n",
              "      <td>25576.00</td>\n",
              "      <td>19774.00</td>\n",
              "      <td>19542.00</td>\n",
              "      <td>11095.00</td>\n",
              "      <td>22602.00</td>\n",
              "      <td>27030.00</td>\n",
              "    </tr>\n",
              "    <tr>\n",
              "      <th>mean</th>\n",
              "      <td>17447.93</td>\n",
              "      <td>393.15</td>\n",
              "      <td>1033.55</td>\n",
              "      <td>19.02</td>\n",
              "      <td>835.65</td>\n",
              "      <td>15.63</td>\n",
              "      <td>33.75</td>\n",
              "      <td>0.53</td>\n",
              "      <td>545464.63</td>\n",
              "      <td>14243.95</td>\n",
              "      <td>21.19</td>\n",
              "      <td>0.47</td>\n",
              "      <td>13349.85</td>\n",
              "      <td>0.45</td>\n",
              "      <td>58.23</td>\n",
              "      <td>4.702262e+07</td>\n",
              "      <td>373.89</td>\n",
              "      <td>31.84</td>\n",
              "      <td>9.57</td>\n",
              "      <td>6.08</td>\n",
              "      <td>22021.34</td>\n",
              "      <td>11.1</td>\n",
              "      <td>248.19</td>\n",
              "      <td>8.02</td>\n",
              "      <td>11.13</td>\n",
              "      <td>32.62</td>\n",
              "      <td>53.77</td>\n",
              "      <td>3.18</td>\n",
              "      <td>74.40</td>\n",
              "    </tr>\n",
              "    <tr>\n",
              "      <th>std</th>\n",
              "      <td>106023.99</td>\n",
              "      <td>2250.90</td>\n",
              "      <td>6374.38</td>\n",
              "      <td>121.24</td>\n",
              "      <td>2155.51</td>\n",
              "      <td>63.45</td>\n",
              "      <td>113.99</td>\n",
              "      <td>3.10</td>\n",
              "      <td>2069268.58</td>\n",
              "      <td>49062.79</td>\n",
              "      <td>34.73</td>\n",
              "      <td>0.77</td>\n",
              "      <td>44274.81</td>\n",
              "      <td>0.68</td>\n",
              "      <td>31.46</td>\n",
              "      <td>1.675222e+08</td>\n",
              "      <td>1713.76</td>\n",
              "      <td>9.03</td>\n",
              "      <td>6.43</td>\n",
              "      <td>4.41</td>\n",
              "      <td>20960.20</td>\n",
              "      <td>18.5</td>\n",
              "      <td>118.72</td>\n",
              "      <td>4.10</td>\n",
              "      <td>10.58</td>\n",
              "      <td>13.39</td>\n",
              "      <td>31.56</td>\n",
              "      <td>2.58</td>\n",
              "      <td>7.29</td>\n",
              "    </tr>\n",
              "    <tr>\n",
              "      <th>min</th>\n",
              "      <td>0.00</td>\n",
              "      <td>-2461.00</td>\n",
              "      <td>0.00</td>\n",
              "      <td>-1918.00</td>\n",
              "      <td>0.00</td>\n",
              "      <td>-265.19</td>\n",
              "      <td>0.00</td>\n",
              "      <td>-41.02</td>\n",
              "      <td>1.00</td>\n",
              "      <td>-3743.00</td>\n",
              "      <td>0.00</td>\n",
              "      <td>-0.21</td>\n",
              "      <td>0.00</td>\n",
              "      <td>0.00</td>\n",
              "      <td>0.00</td>\n",
              "      <td>8.090000e+02</td>\n",
              "      <td>0.14</td>\n",
              "      <td>15.10</td>\n",
              "      <td>1.14</td>\n",
              "      <td>0.53</td>\n",
              "      <td>661.24</td>\n",
              "      <td>0.1</td>\n",
              "      <td>79.37</td>\n",
              "      <td>0.99</td>\n",
              "      <td>0.10</td>\n",
              "      <td>7.70</td>\n",
              "      <td>1.19</td>\n",
              "      <td>0.10</td>\n",
              "      <td>53.28</td>\n",
              "    </tr>\n",
              "    <tr>\n",
              "      <th>25%</th>\n",
              "      <td>15.00</td>\n",
              "      <td>0.00</td>\n",
              "      <td>0.00</td>\n",
              "      <td>0.00</td>\n",
              "      <td>3.59</td>\n",
              "      <td>0.00</td>\n",
              "      <td>0.00</td>\n",
              "      <td>0.00</td>\n",
              "      <td>20126.25</td>\n",
              "      <td>803.00</td>\n",
              "      <td>1.03</td>\n",
              "      <td>0.05</td>\n",
              "      <td>914.25</td>\n",
              "      <td>0.05</td>\n",
              "      <td>34.26</td>\n",
              "      <td>1.932774e+06</td>\n",
              "      <td>39.50</td>\n",
              "      <td>24.90</td>\n",
              "      <td>3.66</td>\n",
              "      <td>2.17</td>\n",
              "      <td>6171.88</td>\n",
              "      <td>0.5</td>\n",
              "      <td>151.69</td>\n",
              "      <td>5.31</td>\n",
              "      <td>1.90</td>\n",
              "      <td>21.40</td>\n",
              "      <td>22.86</td>\n",
              "      <td>1.38</td>\n",
              "      <td>70.60</td>\n",
              "    </tr>\n",
              "    <tr>\n",
              "      <th>50%</th>\n",
              "      <td>258.00</td>\n",
              "      <td>4.00</td>\n",
              "      <td>5.00</td>\n",
              "      <td>0.00</td>\n",
              "      <td>91.36</td>\n",
              "      <td>0.52</td>\n",
              "      <td>0.93</td>\n",
              "      <td>0.00</td>\n",
              "      <td>86892.50</td>\n",
              "      <td>2641.50</td>\n",
              "      <td>5.73</td>\n",
              "      <td>0.20</td>\n",
              "      <td>2978.50</td>\n",
              "      <td>0.22</td>\n",
              "      <td>69.44</td>\n",
              "      <td>9.006400e+06</td>\n",
              "      <td>93.10</td>\n",
              "      <td>31.90</td>\n",
              "      <td>7.15</td>\n",
              "      <td>4.46</td>\n",
              "      <td>15308.71</td>\n",
              "      <td>1.6</td>\n",
              "      <td>235.95</td>\n",
              "      <td>7.11</td>\n",
              "      <td>6.90</td>\n",
              "      <td>31.40</td>\n",
              "      <td>59.55</td>\n",
              "      <td>2.54</td>\n",
              "      <td>75.93</td>\n",
              "    </tr>\n",
              "    <tr>\n",
              "      <th>75%</th>\n",
              "      <td>2878.00</td>\n",
              "      <td>70.00</td>\n",
              "      <td>64.00</td>\n",
              "      <td>1.00</td>\n",
              "      <td>582.48</td>\n",
              "      <td>8.24</td>\n",
              "      <td>13.44</td>\n",
              "      <td>0.10</td>\n",
              "      <td>331539.50</td>\n",
              "      <td>8248.25</td>\n",
              "      <td>27.54</td>\n",
              "      <td>0.63</td>\n",
              "      <td>8360.00</td>\n",
              "      <td>0.62</td>\n",
              "      <td>83.33</td>\n",
              "      <td>3.236600e+07</td>\n",
              "      <td>222.87</td>\n",
              "      <td>40.10</td>\n",
              "      <td>14.95</td>\n",
              "      <td>9.73</td>\n",
              "      <td>34272.36</td>\n",
              "      <td>14.8</td>\n",
              "      <td>317.84</td>\n",
              "      <td>10.08</td>\n",
              "      <td>19.80</td>\n",
              "      <td>40.90</td>\n",
              "      <td>83.84</td>\n",
              "      <td>4.21</td>\n",
              "      <td>80.22</td>\n",
              "    </tr>\n",
              "    <tr>\n",
              "      <th>max</th>\n",
              "      <td>2686480.00</td>\n",
              "      <td>54771.00</td>\n",
              "      <td>128062.00</td>\n",
              "      <td>4928.00</td>\n",
              "      <td>33669.20</td>\n",
              "      <td>4944.38</td>\n",
              "      <td>1237.55</td>\n",
              "      <td>200.04</td>\n",
              "      <td>32206245.00</td>\n",
              "      <td>648838.00</td>\n",
              "      <td>325.72</td>\n",
              "      <td>13.47</td>\n",
              "      <td>592634.00</td>\n",
              "      <td>9.45</td>\n",
              "      <td>100.00</td>\n",
              "      <td>1.439324e+09</td>\n",
              "      <td>19347.50</td>\n",
              "      <td>48.20</td>\n",
              "      <td>27.05</td>\n",
              "      <td>18.49</td>\n",
              "      <td>116935.60</td>\n",
              "      <td>77.6</td>\n",
              "      <td>724.42</td>\n",
              "      <td>23.36</td>\n",
              "      <td>44.00</td>\n",
              "      <td>78.10</td>\n",
              "      <td>99.00</td>\n",
              "      <td>13.80</td>\n",
              "      <td>86.75</td>\n",
              "    </tr>\n",
              "  </tbody>\n",
              "</table>\n",
              "</div>"
            ],
            "text/plain": [
              "       total_cases  new_cases  ...  hospital_beds_per_thousand  life_expectancy\n",
              "count     27127.00   27127.00  ...                    22602.00         27030.00\n",
              "mean      17447.93     393.15  ...                        3.18            74.40\n",
              "std      106023.99    2250.90  ...                        2.58             7.29\n",
              "min           0.00   -2461.00  ...                        0.10            53.28\n",
              "25%          15.00       0.00  ...                        1.38            70.60\n",
              "50%         258.00       4.00  ...                        2.54            75.93\n",
              "75%        2878.00      70.00  ...                        4.21            80.22\n",
              "max     2686480.00   54771.00  ...                       13.80            86.75\n",
              "\n",
              "[8 rows x 29 columns]"
            ]
          },
          "metadata": {
            "tags": []
          },
          "execution_count": 17
        }
      ]
    },
    {
      "cell_type": "markdown",
      "metadata": {
        "id": "BCqILSHsvYiG",
        "colab_type": "text"
      },
      "source": [
        "Através das informações dispostas acima, podemos verificar novamente que nem todas as variáveis possuem todos os valores preenchidos, algumas ainda possuem números negativos, como por exemplo em: `new_cases`, `new_deaths`, `new_tests`, entre outras, o que não faz sentido e possivelmente foi um erro na digitação ou na coleta dos dados. Vemos também que na grande maioria das features, o valor máximo esta bem distante dos 75% dos dados iniciais, o que indica fortemente a presença de *outliers*. "
      ]
    },
    {
      "cell_type": "code",
      "metadata": {
        "id": "JWwsg_9Ow3XM",
        "colab_type": "code",
        "colab": {
          "base_uri": "https://localhost:8080/",
          "height": 173
        },
        "outputId": "a8658a6f-fdda-4f90-96d8-4fb075c13273"
      },
      "source": [
        "# estatísticas básicas para os dados categóricos\n",
        "df1.describe(include=\"O\")"
      ],
      "execution_count": null,
      "outputs": [
        {
          "output_type": "execute_result",
          "data": {
            "text/html": [
              "<div>\n",
              "<style scoped>\n",
              "    .dataframe tbody tr th:only-of-type {\n",
              "        vertical-align: middle;\n",
              "    }\n",
              "\n",
              "    .dataframe tbody tr th {\n",
              "        vertical-align: top;\n",
              "    }\n",
              "\n",
              "    .dataframe thead th {\n",
              "        text-align: right;\n",
              "    }\n",
              "</style>\n",
              "<table border=\"1\" class=\"dataframe\">\n",
              "  <thead>\n",
              "    <tr style=\"text-align: right;\">\n",
              "      <th></th>\n",
              "      <th>iso_code</th>\n",
              "      <th>continent</th>\n",
              "      <th>location</th>\n",
              "      <th>tests_units</th>\n",
              "    </tr>\n",
              "  </thead>\n",
              "  <tbody>\n",
              "    <tr>\n",
              "      <th>count</th>\n",
              "      <td>27351</td>\n",
              "      <td>27351</td>\n",
              "      <td>27351</td>\n",
              "      <td>9336</td>\n",
              "    </tr>\n",
              "    <tr>\n",
              "      <th>unique</th>\n",
              "      <td>210</td>\n",
              "      <td>6</td>\n",
              "      <td>210</td>\n",
              "      <td>4</td>\n",
              "    </tr>\n",
              "    <tr>\n",
              "      <th>top</th>\n",
              "      <td>MEX</td>\n",
              "      <td>Europe</td>\n",
              "      <td>China</td>\n",
              "      <td>tests performed</td>\n",
              "    </tr>\n",
              "    <tr>\n",
              "      <th>freq</th>\n",
              "      <td>185</td>\n",
              "      <td>7692</td>\n",
              "      <td>185</td>\n",
              "      <td>4020</td>\n",
              "    </tr>\n",
              "  </tbody>\n",
              "</table>\n",
              "</div>"
            ],
            "text/plain": [
              "       iso_code continent location      tests_units\n",
              "count     27351     27351    27351             9336\n",
              "unique      210         6      210                4\n",
              "top         MEX    Europe    China  tests performed\n",
              "freq        185      7692      185             4020"
            ]
          },
          "metadata": {
            "tags": []
          },
          "execution_count": 18
        }
      ]
    },
    {
      "cell_type": "markdown",
      "metadata": {
        "id": "i1BgjO_ixExZ",
        "colab_type": "text"
      },
      "source": [
        "É possível verificarmos a presença de 210 lugares diferentes dispostos em 6 continentes na base, visto que tiramos os dados que representavam informações do *mundo* e *internacional*. Temos também a presença de 4 unidades para reportar os dados de testes feitos nos locais, sendo que a mais frequênte é *testes realizados*."
      ]
    },
    {
      "cell_type": "code",
      "metadata": {
        "id": "ZT56M-dB-Xyz",
        "colab_type": "code",
        "colab": {
          "base_uri": "https://localhost:8080/",
          "height": 892
        },
        "outputId": "239ee422-61db-40d4-e6e0-f4cbe7678f8d"
      },
      "source": [
        "# verificar as distribuições dos dados numéricos\n",
        "sns.set_style('darkgrid')\n",
        "df1.hist(figsize=(25,15));"
      ],
      "execution_count": null,
      "outputs": [
        {
          "output_type": "display_data",
          "data": {
            "image/png": "[encoded data removed]",
            "text/plain": [
              "<Figure size 1800x1080 with 30 Axes>"
            ]
          },
          "metadata": {
            "tags": []
          }
        }
      ]
    },
    {
      "cell_type": "markdown",
      "metadata": {
        "id": "1fn0kXO2r3ms",
        "colab_type": "text"
      },
      "source": [
        "As distribuições das variáveis numéricas representadas anteriormente, nos permite identificar a presença de outliers na grande maioria delas, ao qual são representadas por poucas barras com altas frequências e uma extenção grande no eixo *X*. \n",
        "\n",
        "Analisando as demais features que estão mais representativas, temos que:\n",
        "\n",
        "A maioria dos países tem entre 1% e 7% dos habitantes com idades de 65 anos ou mais. Com respeito a porcentagem de habitantes com 70 anos de idade ou mais nos países, temos uma concetração de 0.5% à 4.5%, ou seja, conforme aumenta a idade, o índice de presença na população diminui.\n",
        "\n",
        "Grande parte dos locais, possuem baixos índices de *extrema pobreza*, o que pode se tornar algo relativo de acordo com o tamanho de cada lugar, já que a forte concentração varia de 0.1% da população até 10%.\n",
        "\n",
        "Com relação a porcentagem de mulheres nos diferentes lugares, temos que de 0% a 5% são fumantes. Essa porcentagem aumenta significativamente quando é referenciada aos homens, já que variação da porcentagem de eles seram fumantes vai de 10% à 40%. \n",
        "\n",
        "A variável `life_expectancy` é a que melhor representa uma assimetria a esquerda, visto que a maioria dos países tende a ter uma expectativa de 75 à 85 anos de idade.\n",
        "\n",
        "\n",
        "\n"
      ]
    },
    {
      "cell_type": "markdown",
      "metadata": {
        "id": "5PJEVbLf-rvp",
        "colab_type": "text"
      },
      "source": [
        "### Devido a presença de outliers em algumas variáveis de interesse, não foi possível analisar precisamente as informações dispostas nelas, através dos histogramas anteriores. Com isso, iremos verificar mais detalhadamente as features: `total_cases`,`new_cases`,`total_deaths` e `new_deaths`."
      ]
    },
    {
      "cell_type": "code",
      "metadata": {
        "id": "BHE0rAmxDKjS",
        "colab_type": "code",
        "colab": {
          "base_uri": "https://localhost:8080/",
          "height": 500
        },
        "outputId": "c0c6e7f7-c7d4-4d58-90ec-da2997fdbaf1"
      },
      "source": [
        "# box-plots para as variáveis destacadas acima\n",
        "box = ['total_cases','new_cases','total_deaths','new_deaths']\n",
        "plt.figure(figsize=(16,8))\n",
        "sns.boxplot(data=df1[box])\n",
        "plt.title('Box-plots para casos e mortes relacionados ao Covid-19');"
      ],
      "execution_count": null,
      "outputs": [
        {
          "output_type": "display_data",
          "data": {
            "image/png": "[encoded data removed]",
            "text/plain": [
              "<Figure size 1152x576 with 1 Axes>"
            ]
          },
          "metadata": {
            "tags": []
          }
        }
      ]
    },
    {
      "cell_type": "markdown",
      "metadata": {
        "id": "z4aI7o9vEcil",
        "colab_type": "text"
      },
      "source": [
        "Por meio dos Box-plots acima, percebe-se que realmente há muitos outliers nessas features. Porém, a maioria deles não são *outliers* quaisquer. Este projeto esta sendo desenvolvido durante o período da pandemia do *novo coronavírus*, e para quem acompanha os noticiários, sabe-se que há países que possuem baixos índices da presença dessa doença, mas também que a grande maioria dos lugares que foram afetados, possuem valores absurdos de casos e mortes causados pelo Covid-19, tal como no caso do própio \"Brasil\", que estudaremos mais detalhadamente a frente."
      ]
    },
    {
      "cell_type": "markdown",
      "metadata": {
        "id": "rbRgQd4y4mgJ",
        "colab_type": "text"
      },
      "source": [
        "### Como o vírus está progredindo?\n",
        "\n",
        "Uma das maiores preocupações das organizações de saúde é a progressão do número de casos e mortes no mundo.\n",
        "\n",
        "Uma das melhores formas de visualizarmos a evolução ao longo do tempo, é o gráfico de linhas. Por isso, vamos utiliza-lo para demonstrar e evolução de casos e mortes no cenário global."
      ]
    },
    {
      "cell_type": "code",
      "metadata": {
        "id": "DFt0Qbi8JLLf",
        "colab_type": "code",
        "colab": {
          "base_uri": "https://localhost:8080/",
          "height": 530
        },
        "outputId": "8e416ec0-0a98-4321-a361-e7188b7fb973"
      },
      "source": [
        "# Série de casos ao longo do tempo\n",
        "date = df1.groupby('date').new_cases.sum().keys()\n",
        "date_sum = df1.groupby('date').new_cases.sum().values\n",
        "plt.figure(figsize=(18,8))\n",
        "plt.title('Série de registros de novos casos de Covid-19 somando os valores de todos os países da base')\n",
        "sns.lineplot(x=date,y=date_sum);\n",
        "print(df1.groupby('date').new_cases.sum().values.max())"
      ],
      "execution_count": null,
      "outputs": [
        {
          "output_type": "stream",
          "text": [
            "199771.0\n"
          ],
          "name": "stdout"
        },
        {
          "output_type": "display_data",
          "data": {
            "image/png": "[encoded data removed]",
            "text/plain": [
              "<Figure size 1296x576 with 1 Axes>"
            ]
          },
          "metadata": {
            "tags": []
          }
        }
      ]
    },
    {
      "cell_type": "markdown",
      "metadata": {
        "id": "aBXOpKkFhen2",
        "colab_type": "text"
      },
      "source": [
        "Com base na série acima, que retrata a quantidade de novos casos de Covid-19 de diversos países, por dia, temos que de 31/12/2019 à meados de março, foram registrados os menores índices de contaminação, mas por ser algo diário, já significa muito. A partir desse período, a quantidade de novos casos identificados diarialmente passou a crescer significativamente, o que impulsionou na tomada de medidas mais drásticas ao redor do mundo para tentar conter o avanço dessa doença, mas que ainda não deixou de avançar."
      ]
    },
    {
      "cell_type": "code",
      "metadata": {
        "id": "5XAbbh0HI6T_",
        "colab_type": "code",
        "colab": {
          "base_uri": "https://localhost:8080/",
          "height": 530
        },
        "outputId": "15b1c87c-c3dd-45c1-e062-65a1117aa157"
      },
      "source": [
        "# Série de mortes ao longo do tempo\n",
        "date = df1.groupby('date').new_deaths.sum().keys()\n",
        "date_sum = df1.groupby('date').new_deaths.sum().values\n",
        "plt.figure(figsize=(18,8))\n",
        "plt.title('Série de registros de novas mortes por Covid-19 somando os valores de todos os países da base')\n",
        "sns.lineplot(x=date,y=date_sum);\n",
        "print(df1.groupby('date').new_deaths.sum().values.max())"
      ],
      "execution_count": null,
      "outputs": [
        {
          "output_type": "stream",
          "text": [
            "10489.0\n"
          ],
          "name": "stdout"
        },
        {
          "output_type": "display_data",
          "data": {
            "image/png": "[encoded data removed]",
            "text/plain": [
              "<Figure size 1296x576 with 1 Axes>"
            ]
          },
          "metadata": {
            "tags": []
          }
        }
      ]
    },
    {
      "cell_type": "markdown",
      "metadata": {
        "id": "uJTvtkcIjOJf",
        "colab_type": "text"
      },
      "source": [
        "Através do gráfico acima, temos a série de óbitos diários para Covid-19, o que é extremamente impactante, pois, vê-se que de dezembro de 2019 à 23 de janeiro, a quantidade de óbitos não havia passado de 11 por dia. A partir dessa data, os índices aumentaram muito, chegando ao pico de aproximadamente 10500 mortes por dia no meio do mês de abril de 2020. Dessa data em diante, a quantidade de mortes diminuiu perante ao maior valor da série, mas ainda há um registro muito alto de falecimento até 02 de julho de 2020."
      ]
    },
    {
      "cell_type": "markdown",
      "metadata": {
        "id": "y-13WrzxZwuX",
        "colab_type": "text"
      },
      "source": [
        "### **Q1. Quais os países que têm mais casos de Covid-19 para a data mais atual?** "
      ]
    },
    {
      "cell_type": "code",
      "metadata": {
        "id": "gJsCfpYDZsLe",
        "colab_type": "code",
        "colab": {
          "base_uri": "https://localhost:8080/",
          "height": 142
        },
        "outputId": "fc2fd138-ebc2-4646-9e20-49a131bbb9e5"
      },
      "source": [
        "plus = df1.query('date == \"2020-07-02\"')[['date','location','total_cases','total_deaths','population']].sort_values(by='total_cases',ascending=False).head(3)\n",
        "plus"
      ],
      "execution_count": null,
      "outputs": [
        {
          "output_type": "execute_result",
          "data": {
            "text/html": [
              "<div>\n",
              "<style scoped>\n",
              "    .dataframe tbody tr th:only-of-type {\n",
              "        vertical-align: middle;\n",
              "    }\n",
              "\n",
              "    .dataframe tbody tr th {\n",
              "        vertical-align: top;\n",
              "    }\n",
              "\n",
              "    .dataframe thead th {\n",
              "        text-align: right;\n",
              "    }\n",
              "</style>\n",
              "<table border=\"1\" class=\"dataframe\">\n",
              "  <thead>\n",
              "    <tr style=\"text-align: right;\">\n",
              "      <th></th>\n",
              "      <th>date</th>\n",
              "      <th>location</th>\n",
              "      <th>total_cases</th>\n",
              "      <th>total_deaths</th>\n",
              "      <th>population</th>\n",
              "    </tr>\n",
              "  </thead>\n",
              "  <tbody>\n",
              "    <tr>\n",
              "      <th>26265</th>\n",
              "      <td>2020-07-02</td>\n",
              "      <td>United States</td>\n",
              "      <td>2686480.0</td>\n",
              "      <td>128062.0</td>\n",
              "      <td>331002647.0</td>\n",
              "    </tr>\n",
              "    <tr>\n",
              "      <th>3740</th>\n",
              "      <td>2020-07-02</td>\n",
              "      <td>Brazil</td>\n",
              "      <td>1448753.0</td>\n",
              "      <td>60632.0</td>\n",
              "      <td>212559409.0</td>\n",
              "    </tr>\n",
              "    <tr>\n",
              "      <th>20831</th>\n",
              "      <td>2020-07-02</td>\n",
              "      <td>Russia</td>\n",
              "      <td>654405.0</td>\n",
              "      <td>9536.0</td>\n",
              "      <td>145934460.0</td>\n",
              "    </tr>\n",
              "  </tbody>\n",
              "</table>\n",
              "</div>"
            ],
            "text/plain": [
              "            date       location  total_cases  total_deaths   population\n",
              "26265 2020-07-02  United States    2686480.0      128062.0  331002647.0\n",
              "3740  2020-07-02         Brazil    1448753.0       60632.0  212559409.0\n",
              "20831 2020-07-02         Russia     654405.0        9536.0  145934460.0"
            ]
          },
          "metadata": {
            "tags": []
          },
          "execution_count": 23
        }
      ]
    },
    {
      "cell_type": "code",
      "metadata": {
        "id": "q8yUih3Jbf-c",
        "colab_type": "code",
        "colab": {
          "base_uri": "https://localhost:8080/",
          "height": 350
        },
        "outputId": "d69d759e-6ff8-4d75-8cbe-51bf9713b7de"
      },
      "source": [
        "plt.figure(figsize=(10,5))\n",
        "plt.title('Países com mais casos para Covid-19')\n",
        "sns.barplot(data=plus, x='location', y='total_cases');"
      ],
      "execution_count": null,
      "outputs": [
        {
          "output_type": "display_data",
          "data": {
            "image/png": "[encoded data removed]",
            "text/plain": [
              "<Figure size 720x360 with 1 Axes>"
            ]
          },
          "metadata": {
            "tags": []
          }
        }
      ]
    },
    {
      "cell_type": "markdown",
      "metadata": {
        "id": "8qLqMOzTbgBf",
        "colab_type": "text"
      },
      "source": [
        "Os 3 países que possuem mais casos para Covid-19 até dia 02 de julho de 2020 são: \n",
        "* *Estados Unidos, Brasil e Russia.*"
      ]
    },
    {
      "cell_type": "markdown",
      "metadata": {
        "id": "lfrWO5SUdiqM",
        "colab_type": "text"
      },
      "source": [
        "### **Q2. Quais os países que têm mais mortes por Covid-19 para a data mais atual?** "
      ]
    },
    {
      "cell_type": "code",
      "metadata": {
        "id": "8-UZsNQkZds4",
        "colab_type": "code",
        "colab": {
          "base_uri": "https://localhost:8080/",
          "height": 142
        },
        "outputId": "9c05ab55-3177-4d64-ad49-63a0d23daf72"
      },
      "source": [
        "dea = df1.query('date == \"2020-07-02\"')[['date','location','total_cases','total_deaths','population']].sort_values(by='total_deaths',ascending=False).head(3)\n",
        "dea"
      ],
      "execution_count": null,
      "outputs": [
        {
          "output_type": "execute_result",
          "data": {
            "text/html": [
              "<div>\n",
              "<style scoped>\n",
              "    .dataframe tbody tr th:only-of-type {\n",
              "        vertical-align: middle;\n",
              "    }\n",
              "\n",
              "    .dataframe tbody tr th {\n",
              "        vertical-align: top;\n",
              "    }\n",
              "\n",
              "    .dataframe thead th {\n",
              "        text-align: right;\n",
              "    }\n",
              "</style>\n",
              "<table border=\"1\" class=\"dataframe\">\n",
              "  <thead>\n",
              "    <tr style=\"text-align: right;\">\n",
              "      <th></th>\n",
              "      <th>date</th>\n",
              "      <th>location</th>\n",
              "      <th>total_cases</th>\n",
              "      <th>total_deaths</th>\n",
              "      <th>population</th>\n",
              "    </tr>\n",
              "  </thead>\n",
              "  <tbody>\n",
              "    <tr>\n",
              "      <th>26265</th>\n",
              "      <td>2020-07-02</td>\n",
              "      <td>United States</td>\n",
              "      <td>2686480.0</td>\n",
              "      <td>128062.0</td>\n",
              "      <td>331002647.0</td>\n",
              "    </tr>\n",
              "    <tr>\n",
              "      <th>3740</th>\n",
              "      <td>2020-07-02</td>\n",
              "      <td>Brazil</td>\n",
              "      <td>1448753.0</td>\n",
              "      <td>60632.0</td>\n",
              "      <td>212559409.0</td>\n",
              "    </tr>\n",
              "    <tr>\n",
              "      <th>26080</th>\n",
              "      <td>2020-07-02</td>\n",
              "      <td>United Kingdom</td>\n",
              "      <td>313483.0</td>\n",
              "      <td>43906.0</td>\n",
              "      <td>67886004.0</td>\n",
              "    </tr>\n",
              "  </tbody>\n",
              "</table>\n",
              "</div>"
            ],
            "text/plain": [
              "            date        location  total_cases  total_deaths   population\n",
              "26265 2020-07-02   United States    2686480.0      128062.0  331002647.0\n",
              "3740  2020-07-02          Brazil    1448753.0       60632.0  212559409.0\n",
              "26080 2020-07-02  United Kingdom     313483.0       43906.0   67886004.0"
            ]
          },
          "metadata": {
            "tags": []
          },
          "execution_count": 25
        }
      ]
    },
    {
      "cell_type": "code",
      "metadata": {
        "id": "ylPDqa8Gc7TP",
        "colab_type": "code",
        "colab": {
          "base_uri": "https://localhost:8080/",
          "height": 350
        },
        "outputId": "e38c8761-f9d5-458b-dc7c-8cd1bc354955"
      },
      "source": [
        "plt.figure(figsize=(10,5))\n",
        "plt.title('Países com mais mortes para Covid-19')\n",
        "sns.barplot(data=dea, x='location', y='total_deaths');"
      ],
      "execution_count": null,
      "outputs": [
        {
          "output_type": "display_data",
          "data": {
            "image/png": "[encoded data removed]",
            "text/plain": [
              "<Figure size 720x360 with 1 Axes>"
            ]
          },
          "metadata": {
            "tags": []
          }
        }
      ]
    },
    {
      "cell_type": "markdown",
      "metadata": {
        "id": "BFooGh3Tb6Ll",
        "colab_type": "text"
      },
      "source": [
        "Os 3 países que possuem mais mortes para Covid-19 até dia 02 de julho de 2020 são: \n",
        "* *Estados Unidos, Brasil e Reino Unido.*\n",
        "\n",
        "Podemos verificar que os dois lugares com mais casos também são os dois com mais mortes, havendo alteração a partir do terceiro país."
      ]
    },
    {
      "cell_type": "markdown",
      "metadata": {
        "id": "rtyTFgTvdIV8",
        "colab_type": "text"
      },
      "source": [
        "### **Q3. Quais os locais que têm menores casos e mortes por Covid-19 para a data mais atual?** "
      ]
    },
    {
      "cell_type": "code",
      "metadata": {
        "id": "NV58kN77Zdpj",
        "colab_type": "code",
        "colab": {
          "base_uri": "https://localhost:8080/",
          "height": 142
        },
        "outputId": "33250e34-81c7-4061-c1d4-99b44c280b98"
      },
      "source": [
        "mec = df1.query('date == \"2020-07-02\"')[['date','location','total_cases','total_deaths','population']].sort_values(by='total_cases').head(3)\n",
        "mec"
      ],
      "execution_count": null,
      "outputs": [
        {
          "output_type": "execute_result",
          "data": {
            "text/html": [
              "<div>\n",
              "<style scoped>\n",
              "    .dataframe tbody tr th:only-of-type {\n",
              "        vertical-align: middle;\n",
              "    }\n",
              "\n",
              "    .dataframe tbody tr th {\n",
              "        vertical-align: top;\n",
              "    }\n",
              "\n",
              "    .dataframe thead th {\n",
              "        text-align: right;\n",
              "    }\n",
              "</style>\n",
              "<table border=\"1\" class=\"dataframe\">\n",
              "  <thead>\n",
              "    <tr style=\"text-align: right;\">\n",
              "      <th></th>\n",
              "      <th>date</th>\n",
              "      <th>location</th>\n",
              "      <th>total_cases</th>\n",
              "      <th>total_deaths</th>\n",
              "      <th>population</th>\n",
              "    </tr>\n",
              "  </thead>\n",
              "  <tbody>\n",
              "    <tr>\n",
              "      <th>782</th>\n",
              "      <td>2020-07-02</td>\n",
              "      <td>Anguilla</td>\n",
              "      <td>3.0</td>\n",
              "      <td>0.0</td>\n",
              "      <td>15002.0</td>\n",
              "    </tr>\n",
              "    <tr>\n",
              "      <th>3350</th>\n",
              "      <td>2020-07-02</td>\n",
              "      <td>Bonaire Sint Eustatius and Saba</td>\n",
              "      <td>7.0</td>\n",
              "      <td>0.0</td>\n",
              "      <td>26221.0</td>\n",
              "    </tr>\n",
              "    <tr>\n",
              "      <th>3838</th>\n",
              "      <td>2020-07-02</td>\n",
              "      <td>British Virgin Islands</td>\n",
              "      <td>8.0</td>\n",
              "      <td>1.0</td>\n",
              "      <td>30237.0</td>\n",
              "    </tr>\n",
              "  </tbody>\n",
              "</table>\n",
              "</div>"
            ],
            "text/plain": [
              "           date                         location  ...  total_deaths  population\n",
              "782  2020-07-02                         Anguilla  ...           0.0     15002.0\n",
              "3350 2020-07-02  Bonaire Sint Eustatius and Saba  ...           0.0     26221.0\n",
              "3838 2020-07-02           British Virgin Islands  ...           1.0     30237.0\n",
              "\n",
              "[3 rows x 5 columns]"
            ]
          },
          "metadata": {
            "tags": []
          },
          "execution_count": 27
        }
      ]
    },
    {
      "cell_type": "code",
      "metadata": {
        "id": "zUGq-0IoziR3",
        "colab_type": "code",
        "colab": {
          "base_uri": "https://localhost:8080/",
          "height": 350
        },
        "outputId": "ac88f13a-e31f-4d51-8828-14de9a81a362"
      },
      "source": [
        "plt.figure(figsize=(10,5))\n",
        "plt.title('Lugares com menos casos de Covid-19')\n",
        "sns.barplot(data=mec, x='location', y='total_cases');"
      ],
      "execution_count": null,
      "outputs": [
        {
          "output_type": "display_data",
          "data": {
            "image/png": "[encoded data removed]",
            "text/plain": [
              "<Figure size 720x360 with 1 Axes>"
            ]
          },
          "metadata": {
            "tags": []
          }
        }
      ]
    },
    {
      "cell_type": "markdown",
      "metadata": {
        "id": "xG-P8PDFfuu7",
        "colab_type": "text"
      },
      "source": [
        "Os lugares que possuem menores casos de Covid-19 têm algumas características em comum, tal como, estarem localizados em ihas e possuirem uma pequena população, o que de alguma forma esta associado ao isolamento de maneira mais eficaz."
      ]
    },
    {
      "cell_type": "code",
      "metadata": {
        "id": "GzvqoG2GdNJX",
        "colab_type": "code",
        "colab": {
          "base_uri": "https://localhost:8080/",
          "height": 142
        },
        "outputId": "b8e170fa-aa54-4c8e-f698-32e5db0089a8"
      },
      "source": [
        "med = df1.query('date == \"2020-07-02\"')[['date','location','total_cases','total_deaths','population']].sort_values(by='total_deaths').head(3)\n",
        "med"
      ],
      "execution_count": null,
      "outputs": [
        {
          "output_type": "execute_result",
          "data": {
            "text/html": [
              "<div>\n",
              "<style scoped>\n",
              "    .dataframe tbody tr th:only-of-type {\n",
              "        vertical-align: middle;\n",
              "    }\n",
              "\n",
              "    .dataframe tbody tr th {\n",
              "        vertical-align: top;\n",
              "    }\n",
              "\n",
              "    .dataframe thead th {\n",
              "        text-align: right;\n",
              "    }\n",
              "</style>\n",
              "<table border=\"1\" class=\"dataframe\">\n",
              "  <thead>\n",
              "    <tr style=\"text-align: right;\">\n",
              "      <th></th>\n",
              "      <th>date</th>\n",
              "      <th>location</th>\n",
              "      <th>total_cases</th>\n",
              "      <th>total_deaths</th>\n",
              "      <th>population</th>\n",
              "    </tr>\n",
              "  </thead>\n",
              "  <tbody>\n",
              "    <tr>\n",
              "      <th>9119</th>\n",
              "      <td>2020-07-02</td>\n",
              "      <td>French Polynesia</td>\n",
              "      <td>62.0</td>\n",
              "      <td>0.0</td>\n",
              "      <td>280904.0</td>\n",
              "    </tr>\n",
              "    <tr>\n",
              "      <th>4448</th>\n",
              "      <td>2020-07-02</td>\n",
              "      <td>Cambodia</td>\n",
              "      <td>141.0</td>\n",
              "      <td>0.0</td>\n",
              "      <td>16718971.0</td>\n",
              "    </tr>\n",
              "    <tr>\n",
              "      <th>24935</th>\n",
              "      <td>2020-07-02</td>\n",
              "      <td>Timor</td>\n",
              "      <td>24.0</td>\n",
              "      <td>0.0</td>\n",
              "      <td>1318442.0</td>\n",
              "    </tr>\n",
              "  </tbody>\n",
              "</table>\n",
              "</div>"
            ],
            "text/plain": [
              "            date          location  total_cases  total_deaths  population\n",
              "9119  2020-07-02  French Polynesia         62.0           0.0    280904.0\n",
              "4448  2020-07-02          Cambodia        141.0           0.0  16718971.0\n",
              "24935 2020-07-02             Timor         24.0           0.0   1318442.0"
            ]
          },
          "metadata": {
            "tags": []
          },
          "execution_count": 29
        }
      ]
    },
    {
      "cell_type": "markdown",
      "metadata": {
        "id": "pcxT68DTfKRY",
        "colab_type": "text"
      },
      "source": [
        "Agora os 3 países que tiveram menor índice de mortes por coronavírus foram:\n",
        "\n",
        "* *Polinésia Francesa, Cambodja e Timor*\n",
        "\n",
        "Ao qual até dia 02 de julho de 2020 não havia registrado nenhum óbito pela doença."
      ]
    },
    {
      "cell_type": "markdown",
      "metadata": {
        "id": "F6bvVE-bxThI",
        "colab_type": "text"
      },
      "source": [
        "### **Q4. Qual o lugar com maior disponibilidade de leitos hospitalares? Como estão os casos e as mortes por Covid-19 nesse lugar para a data mais atual?**"
      ]
    },
    {
      "cell_type": "code",
      "metadata": {
        "id": "77d4kHSkxxLM",
        "colab_type": "code",
        "colab": {
          "base_uri": "https://localhost:8080/",
          "height": 34
        },
        "outputId": "44a15c5d-51af-40f0-a5bc-84d0adf7cd30"
      },
      "source": [
        "# verificar a maior quantidade de leitos hospitalares disponíveis\n",
        "df1['hospital_beds_per_thousand'].max()"
      ],
      "execution_count": null,
      "outputs": [
        {
          "output_type": "execute_result",
          "data": {
            "text/plain": [
              "13.8"
            ]
          },
          "metadata": {
            "tags": []
          },
          "execution_count": 30
        }
      ]
    },
    {
      "cell_type": "code",
      "metadata": {
        "id": "tQfVc4dQdNE4",
        "colab_type": "code",
        "colab": {
          "base_uri": "https://localhost:8080/",
          "height": 51
        },
        "outputId": "f182644b-2c6d-490e-ec72-a31d6bce89b9"
      },
      "source": [
        "# verificar qual local tem a maios disponibilidade de leitos hospitalares\n",
        "df1.loc[df1.hospital_beds_per_thousand == 13.8, ['location','total_deaths','total_cases']]['location'].value_counts()"
      ],
      "execution_count": null,
      "outputs": [
        {
          "output_type": "execute_result",
          "data": {
            "text/plain": [
              "Monaco    173\n",
              "Name: location, dtype: int64"
            ]
          },
          "metadata": {
            "tags": []
          },
          "execution_count": 31
        }
      ]
    },
    {
      "cell_type": "code",
      "metadata": {
        "id": "3GfUyG0pyn3N",
        "colab_type": "code",
        "colab": {
          "base_uri": "https://localhost:8080/",
          "height": 142
        },
        "outputId": "67b7736c-09ef-4a39-9cd9-be8e2a139200"
      },
      "source": [
        "df1.loc[df1.hospital_beds_per_thousand == 13.8, ['date','location','total_deaths','total_cases']].sort_values(by='date',ascending=False).head(3)"
      ],
      "execution_count": null,
      "outputs": [
        {
          "output_type": "execute_result",
          "data": {
            "text/html": [
              "<div>\n",
              "<style scoped>\n",
              "    .dataframe tbody tr th:only-of-type {\n",
              "        vertical-align: middle;\n",
              "    }\n",
              "\n",
              "    .dataframe tbody tr th {\n",
              "        vertical-align: top;\n",
              "    }\n",
              "\n",
              "    .dataframe thead th {\n",
              "        text-align: right;\n",
              "    }\n",
              "</style>\n",
              "<table border=\"1\" class=\"dataframe\">\n",
              "  <thead>\n",
              "    <tr style=\"text-align: right;\">\n",
              "      <th></th>\n",
              "      <th>date</th>\n",
              "      <th>location</th>\n",
              "      <th>total_deaths</th>\n",
              "      <th>total_cases</th>\n",
              "    </tr>\n",
              "  </thead>\n",
              "  <tbody>\n",
              "    <tr>\n",
              "      <th>16726</th>\n",
              "      <td>2020-07-02</td>\n",
              "      <td>Monaco</td>\n",
              "      <td>5.0</td>\n",
              "      <td>103.0</td>\n",
              "    </tr>\n",
              "    <tr>\n",
              "      <th>16725</th>\n",
              "      <td>2020-07-01</td>\n",
              "      <td>Monaco</td>\n",
              "      <td>5.0</td>\n",
              "      <td>103.0</td>\n",
              "    </tr>\n",
              "    <tr>\n",
              "      <th>16724</th>\n",
              "      <td>2020-06-30</td>\n",
              "      <td>Monaco</td>\n",
              "      <td>5.0</td>\n",
              "      <td>103.0</td>\n",
              "    </tr>\n",
              "  </tbody>\n",
              "</table>\n",
              "</div>"
            ],
            "text/plain": [
              "            date location  total_deaths  total_cases\n",
              "16726 2020-07-02   Monaco           5.0        103.0\n",
              "16725 2020-07-01   Monaco           5.0        103.0\n",
              "16724 2020-06-30   Monaco           5.0        103.0"
            ]
          },
          "metadata": {
            "tags": []
          },
          "execution_count": 32
        }
      ]
    },
    {
      "cell_type": "markdown",
      "metadata": {
        "id": "kVhYW9DbzuIe",
        "colab_type": "text"
      },
      "source": [
        "Mônaco é o lugar com maior disponibilidade de leitos hospitalares, com cerca de 13.8 para cada 1000 pessoas e a quantidade de casos para este lugar é baixa, apenas 103 até dia 02 de julho de 2020 com 5 mortes registradas."
      ]
    },
    {
      "cell_type": "markdown",
      "metadata": {
        "id": "cp3hnSPw0Ril",
        "colab_type": "text"
      },
      "source": [
        "### **Q5. Quantos locais tiveram os maiores índices de estringência de resposta governamental? E quais tiveram os menores?**\n",
        "\n"
      ]
    },
    {
      "cell_type": "code",
      "metadata": {
        "id": "jKMHXotz34kV",
        "colab_type": "code",
        "colab": {
          "base_uri": "https://localhost:8080/",
          "height": 34
        },
        "outputId": "38107641-cbe3-4f21-cca7-010e5c68bbc5"
      },
      "source": [
        "# verificar a mediana da quantidade total de casos para as estringências de índice 100\n",
        "df1.query('stringency_index == 100')['total_cases'].median()"
      ],
      "execution_count": null,
      "outputs": [
        {
          "output_type": "execute_result",
          "data": {
            "text/plain": [
              "1075.0"
            ]
          },
          "metadata": {
            "tags": []
          },
          "execution_count": 33
        }
      ]
    },
    {
      "cell_type": "code",
      "metadata": {
        "id": "99Qxh04dtofL",
        "colab_type": "code",
        "colab": {
          "base_uri": "https://localhost:8080/",
          "height": 255
        },
        "outputId": "0c0c3a22-efd0-4bcf-8d17-ff089fc686d4"
      },
      "source": [
        "# verificar os locais com maiores estringência\n",
        "df1.query('stringency_index == 100')['location'].value_counts()"
      ],
      "execution_count": null,
      "outputs": [
        {
          "output_type": "execute_result",
          "data": {
            "text/plain": [
              "Honduras       79\n",
              "Libya          41\n",
              "Philippines    40\n",
              "Cuba           39\n",
              "Argentina      34\n",
              "Jordan         34\n",
              "Serbia         31\n",
              "India          27\n",
              "Georgia        27\n",
              "El Salvador    26\n",
              "Sri Lanka      22\n",
              "Kuwait         21\n",
              "Djibouti       16\n",
              "Name: location, dtype: int64"
            ]
          },
          "metadata": {
            "tags": []
          },
          "execution_count": 34
        }
      ]
    },
    {
      "cell_type": "markdown",
      "metadata": {
        "id": "aLegAVRW2Gqt",
        "colab_type": "text"
      },
      "source": [
        "Há 13 locais que tiveram o maior *índice de estringência*, ou seja, atingiram 100 pontos na medida que é baseada em nove indicadores de resposta, incluindo o encerramentos de escolas, de trabalho, viagens, entre outros. E tais lugares podem ser conferidos na tabela acima.\n",
        "\n",
        "Ademais, temos uma mediana de 1075 mortes para lugares que atingiram a pontuação máxima, ou seja, são locais que precisaram ter mais cuidados, pois a doença afetou fortemente a população."
      ]
    },
    {
      "cell_type": "code",
      "metadata": {
        "id": "iPdWlG4PdNBk",
        "colab_type": "code",
        "colab": {
          "base_uri": "https://localhost:8080/",
          "height": 34
        },
        "outputId": "1937aad6-eab6-431e-8eec-181a0e4c315d"
      },
      "source": [
        "# verificar a mediana da quantidade total de casos para as estringências de índice 0\n",
        "df1.query('stringency_index == 0')['total_cases'].median()"
      ],
      "execution_count": null,
      "outputs": [
        {
          "output_type": "execute_result",
          "data": {
            "text/plain": [
              "0.0"
            ]
          },
          "metadata": {
            "tags": []
          },
          "execution_count": 35
        }
      ]
    },
    {
      "cell_type": "code",
      "metadata": {
        "id": "CRdF-DxEtoid",
        "colab_type": "code",
        "colab": {
          "base_uri": "https://localhost:8080/",
          "height": 221
        },
        "outputId": "a217ea17-7867-446b-c557-e80448fa6310"
      },
      "source": [
        "# verificar os locais com menores estringência\n",
        "df1.query('stringency_index == 0')['location'].value_counts()"
      ],
      "execution_count": null,
      "outputs": [
        {
          "output_type": "execute_result",
          "data": {
            "text/plain": [
              "Belarus         73\n",
              "Estonia         71\n",
              "Egypt           70\n",
              "Sweden          68\n",
              "Netherlands     65\n",
              "                ..\n",
              "Burkina Faso     1\n",
              "Taiwan           1\n",
              "Andorra          1\n",
              "Peru             1\n",
              "Aruba            1\n",
              "Name: location, Length: 75, dtype: int64"
            ]
          },
          "metadata": {
            "tags": []
          },
          "execution_count": 36
        }
      ]
    },
    {
      "cell_type": "markdown",
      "metadata": {
        "id": "IjCK0aXo3M5h",
        "colab_type": "text"
      },
      "source": [
        "Com relação aos lugares com menor *índice de estringência*, temos 75 referências, ou seja, houve mais locais que não precisaram de fechamentos de escolas, cancelamento de viagens, entre outros, pois temos uma mediana de 0 mortes por Covid-19, e a máxima de 161. Contudo, são localidades menos afetas pela doença."
      ]
    },
    {
      "cell_type": "markdown",
      "metadata": {
        "id": "4Xk9gtwDplWD",
        "colab_type": "text"
      },
      "source": [
        "## Após uma análise geral das informações dispostas sobre o Covid-19 para vários lugares do mundo, iremos estreitar o foco para detalharmos melhor o panorama do *coronavírus* no Brasil."
      ]
    },
    {
      "cell_type": "code",
      "metadata": {
        "id": "iOSTCkloHMA9",
        "colab_type": "code",
        "colab": {}
      },
      "source": [
        "# fazer uma cópia do dataset para manipulações\n",
        "df_brasil = df1.loc[df1.location == \"Brazil\"].copy()"
      ],
      "execution_count": null,
      "outputs": []
    },
    {
      "cell_type": "code",
      "metadata": {
        "id": "9QPtMlFLHL_L",
        "colab_type": "code",
        "colab": {
          "base_uri": "https://localhost:8080/",
          "height": 309
        },
        "outputId": "7f667145-a74d-4802-cf43-4cecd82143fc"
      },
      "source": [
        "# verificar as 5 primeiras entradas\n",
        "df_brasil.head()"
      ],
      "execution_count": null,
      "outputs": [
        {
          "output_type": "execute_result",
          "data": {
            "text/html": [
              "<div>\n",
              "<style scoped>\n",
              "    .dataframe tbody tr th:only-of-type {\n",
              "        vertical-align: middle;\n",
              "    }\n",
              "\n",
              "    .dataframe tbody tr th {\n",
              "        vertical-align: top;\n",
              "    }\n",
              "\n",
              "    .dataframe thead th {\n",
              "        text-align: right;\n",
              "    }\n",
              "</style>\n",
              "<table border=\"1\" class=\"dataframe\">\n",
              "  <thead>\n",
              "    <tr style=\"text-align: right;\">\n",
              "      <th></th>\n",
              "      <th>iso_code</th>\n",
              "      <th>continent</th>\n",
              "      <th>location</th>\n",
              "      <th>date</th>\n",
              "      <th>total_cases</th>\n",
              "      <th>new_cases</th>\n",
              "      <th>total_deaths</th>\n",
              "      <th>new_deaths</th>\n",
              "      <th>total_cases_per_million</th>\n",
              "      <th>new_cases_per_million</th>\n",
              "      <th>total_deaths_per_million</th>\n",
              "      <th>new_deaths_per_million</th>\n",
              "      <th>total_tests</th>\n",
              "      <th>new_tests</th>\n",
              "      <th>total_tests_per_thousand</th>\n",
              "      <th>new_tests_per_thousand</th>\n",
              "      <th>new_tests_smoothed</th>\n",
              "      <th>new_tests_smoothed_per_thousand</th>\n",
              "      <th>tests_units</th>\n",
              "      <th>stringency_index</th>\n",
              "      <th>population</th>\n",
              "      <th>population_density</th>\n",
              "      <th>median_age</th>\n",
              "      <th>aged_65_older</th>\n",
              "      <th>aged_70_older</th>\n",
              "      <th>gdp_per_capita</th>\n",
              "      <th>extreme_poverty</th>\n",
              "      <th>cvd_death_rate</th>\n",
              "      <th>diabetes_prevalence</th>\n",
              "      <th>female_smokers</th>\n",
              "      <th>male_smokers</th>\n",
              "      <th>handwashing_facilities</th>\n",
              "      <th>hospital_beds_per_thousand</th>\n",
              "      <th>life_expectancy</th>\n",
              "    </tr>\n",
              "  </thead>\n",
              "  <tbody>\n",
              "    <tr>\n",
              "      <th>3556</th>\n",
              "      <td>BRA</td>\n",
              "      <td>South America</td>\n",
              "      <td>Brazil</td>\n",
              "      <td>2019-12-31</td>\n",
              "      <td>0.0</td>\n",
              "      <td>0.0</td>\n",
              "      <td>0.0</td>\n",
              "      <td>0.0</td>\n",
              "      <td>0.0</td>\n",
              "      <td>0.0</td>\n",
              "      <td>0.0</td>\n",
              "      <td>0.0</td>\n",
              "      <td>NaN</td>\n",
              "      <td>NaN</td>\n",
              "      <td>NaN</td>\n",
              "      <td>NaN</td>\n",
              "      <td>NaN</td>\n",
              "      <td>NaN</td>\n",
              "      <td>NaN</td>\n",
              "      <td>NaN</td>\n",
              "      <td>212559409.0</td>\n",
              "      <td>25.04</td>\n",
              "      <td>33.5</td>\n",
              "      <td>8.552</td>\n",
              "      <td>5.06</td>\n",
              "      <td>14103.452</td>\n",
              "      <td>3.4</td>\n",
              "      <td>177.961</td>\n",
              "      <td>8.11</td>\n",
              "      <td>10.1</td>\n",
              "      <td>17.9</td>\n",
              "      <td>NaN</td>\n",
              "      <td>2.2</td>\n",
              "      <td>75.88</td>\n",
              "    </tr>\n",
              "    <tr>\n",
              "      <th>3557</th>\n",
              "      <td>BRA</td>\n",
              "      <td>South America</td>\n",
              "      <td>Brazil</td>\n",
              "      <td>2020-01-01</td>\n",
              "      <td>0.0</td>\n",
              "      <td>0.0</td>\n",
              "      <td>0.0</td>\n",
              "      <td>0.0</td>\n",
              "      <td>0.0</td>\n",
              "      <td>0.0</td>\n",
              "      <td>0.0</td>\n",
              "      <td>0.0</td>\n",
              "      <td>NaN</td>\n",
              "      <td>NaN</td>\n",
              "      <td>NaN</td>\n",
              "      <td>NaN</td>\n",
              "      <td>NaN</td>\n",
              "      <td>NaN</td>\n",
              "      <td>NaN</td>\n",
              "      <td>0.0</td>\n",
              "      <td>212559409.0</td>\n",
              "      <td>25.04</td>\n",
              "      <td>33.5</td>\n",
              "      <td>8.552</td>\n",
              "      <td>5.06</td>\n",
              "      <td>14103.452</td>\n",
              "      <td>3.4</td>\n",
              "      <td>177.961</td>\n",
              "      <td>8.11</td>\n",
              "      <td>10.1</td>\n",
              "      <td>17.9</td>\n",
              "      <td>NaN</td>\n",
              "      <td>2.2</td>\n",
              "      <td>75.88</td>\n",
              "    </tr>\n",
              "    <tr>\n",
              "      <th>3558</th>\n",
              "      <td>BRA</td>\n",
              "      <td>South America</td>\n",
              "      <td>Brazil</td>\n",
              "      <td>2020-01-02</td>\n",
              "      <td>0.0</td>\n",
              "      <td>0.0</td>\n",
              "      <td>0.0</td>\n",
              "      <td>0.0</td>\n",
              "      <td>0.0</td>\n",
              "      <td>0.0</td>\n",
              "      <td>0.0</td>\n",
              "      <td>0.0</td>\n",
              "      <td>NaN</td>\n",
              "      <td>NaN</td>\n",
              "      <td>NaN</td>\n",
              "      <td>NaN</td>\n",
              "      <td>NaN</td>\n",
              "      <td>NaN</td>\n",
              "      <td>NaN</td>\n",
              "      <td>0.0</td>\n",
              "      <td>212559409.0</td>\n",
              "      <td>25.04</td>\n",
              "      <td>33.5</td>\n",
              "      <td>8.552</td>\n",
              "      <td>5.06</td>\n",
              "      <td>14103.452</td>\n",
              "      <td>3.4</td>\n",
              "      <td>177.961</td>\n",
              "      <td>8.11</td>\n",
              "      <td>10.1</td>\n",
              "      <td>17.9</td>\n",
              "      <td>NaN</td>\n",
              "      <td>2.2</td>\n",
              "      <td>75.88</td>\n",
              "    </tr>\n",
              "    <tr>\n",
              "      <th>3559</th>\n",
              "      <td>BRA</td>\n",
              "      <td>South America</td>\n",
              "      <td>Brazil</td>\n",
              "      <td>2020-01-03</td>\n",
              "      <td>0.0</td>\n",
              "      <td>0.0</td>\n",
              "      <td>0.0</td>\n",
              "      <td>0.0</td>\n",
              "      <td>0.0</td>\n",
              "      <td>0.0</td>\n",
              "      <td>0.0</td>\n",
              "      <td>0.0</td>\n",
              "      <td>NaN</td>\n",
              "      <td>NaN</td>\n",
              "      <td>NaN</td>\n",
              "      <td>NaN</td>\n",
              "      <td>NaN</td>\n",
              "      <td>NaN</td>\n",
              "      <td>NaN</td>\n",
              "      <td>0.0</td>\n",
              "      <td>212559409.0</td>\n",
              "      <td>25.04</td>\n",
              "      <td>33.5</td>\n",
              "      <td>8.552</td>\n",
              "      <td>5.06</td>\n",
              "      <td>14103.452</td>\n",
              "      <td>3.4</td>\n",
              "      <td>177.961</td>\n",
              "      <td>8.11</td>\n",
              "      <td>10.1</td>\n",
              "      <td>17.9</td>\n",
              "      <td>NaN</td>\n",
              "      <td>2.2</td>\n",
              "      <td>75.88</td>\n",
              "    </tr>\n",
              "    <tr>\n",
              "      <th>3560</th>\n",
              "      <td>BRA</td>\n",
              "      <td>South America</td>\n",
              "      <td>Brazil</td>\n",
              "      <td>2020-01-04</td>\n",
              "      <td>0.0</td>\n",
              "      <td>0.0</td>\n",
              "      <td>0.0</td>\n",
              "      <td>0.0</td>\n",
              "      <td>0.0</td>\n",
              "      <td>0.0</td>\n",
              "      <td>0.0</td>\n",
              "      <td>0.0</td>\n",
              "      <td>NaN</td>\n",
              "      <td>NaN</td>\n",
              "      <td>NaN</td>\n",
              "      <td>NaN</td>\n",
              "      <td>NaN</td>\n",
              "      <td>NaN</td>\n",
              "      <td>NaN</td>\n",
              "      <td>0.0</td>\n",
              "      <td>212559409.0</td>\n",
              "      <td>25.04</td>\n",
              "      <td>33.5</td>\n",
              "      <td>8.552</td>\n",
              "      <td>5.06</td>\n",
              "      <td>14103.452</td>\n",
              "      <td>3.4</td>\n",
              "      <td>177.961</td>\n",
              "      <td>8.11</td>\n",
              "      <td>10.1</td>\n",
              "      <td>17.9</td>\n",
              "      <td>NaN</td>\n",
              "      <td>2.2</td>\n",
              "      <td>75.88</td>\n",
              "    </tr>\n",
              "  </tbody>\n",
              "</table>\n",
              "</div>"
            ],
            "text/plain": [
              "     iso_code      continent  ... hospital_beds_per_thousand life_expectancy\n",
              "3556      BRA  South America  ...                        2.2           75.88\n",
              "3557      BRA  South America  ...                        2.2           75.88\n",
              "3558      BRA  South America  ...                        2.2           75.88\n",
              "3559      BRA  South America  ...                        2.2           75.88\n",
              "3560      BRA  South America  ...                        2.2           75.88\n",
              "\n",
              "[5 rows x 34 columns]"
            ]
          },
          "metadata": {
            "tags": []
          },
          "execution_count": 38
        }
      ]
    },
    {
      "cell_type": "markdown",
      "metadata": {
        "id": "0Cg0wzu5YSRn",
        "colab_type": "text"
      },
      "source": [
        "Uma simples observação das 5 primeiras entradas do DataFrame, nos permite inferir sobre algumas variáveis que são estáticas para uma determinada localização em específico, ao decorrer de um período de tempo, como por exemplo, nesse 185 dias de análises:\n",
        "\n",
        "* População do Brasil: 212.559.409 habitantes\n",
        "* Densidade populacional: 25.04\n",
        "* PIB per capita: 14103.452\n",
        "* Porcentagem de mulheres fumantes: 10.1%\n",
        "* Porcentagem de homens fumantes: 17.9%\n",
        "* Expectativa de vida: 75.88 anos\n",
        "\n",
        "entre outras variáveis."
      ]
    },
    {
      "cell_type": "code",
      "metadata": {
        "id": "1m70OU30y7l0",
        "colab_type": "code",
        "colab": {
          "base_uri": "https://localhost:8080/",
          "height": 34
        },
        "outputId": "b7fc651c-46d2-4d0b-ef6a-c2ae6e20dfcc"
      },
      "source": [
        "# tamanho do dataset que refere-se apenas ao Brasil\n",
        "df_brasil.shape"
      ],
      "execution_count": null,
      "outputs": [
        {
          "output_type": "execute_result",
          "data": {
            "text/plain": [
              "(185, 34)"
            ]
          },
          "metadata": {
            "tags": []
          },
          "execution_count": 39
        }
      ]
    },
    {
      "cell_type": "markdown",
      "metadata": {
        "id": "RUKg5o9y4ujA",
        "colab_type": "text"
      },
      "source": [
        "O DataFrame possui 185 entradas, que representam o período de coleta dos dados referente na base deste projeto."
      ]
    },
    {
      "cell_type": "code",
      "metadata": {
        "id": "jH3qxMwnHL83",
        "colab_type": "code",
        "colab": {
          "base_uri": "https://localhost:8080/",
          "height": 714
        },
        "outputId": "70372682-bdc5-4bee-dcd0-995f18177c23"
      },
      "source": [
        "# verificar as informações gerais dos dados para o Brasil\n",
        "df_brasil.info()"
      ],
      "execution_count": null,
      "outputs": [
        {
          "output_type": "stream",
          "text": [
            "<class 'pandas.core.frame.DataFrame'>\n",
            "Int64Index: 185 entries, 3556 to 3740\n",
            "Data columns (total 34 columns):\n",
            " #   Column                           Non-Null Count  Dtype         \n",
            "---  ------                           --------------  -----         \n",
            " 0   iso_code                         185 non-null    object        \n",
            " 1   continent                        185 non-null    object        \n",
            " 2   location                         185 non-null    object        \n",
            " 3   date                             185 non-null    datetime64[ns]\n",
            " 4   total_cases                      185 non-null    float64       \n",
            " 5   new_cases                        185 non-null    float64       \n",
            " 6   total_deaths                     185 non-null    float64       \n",
            " 7   new_deaths                       185 non-null    float64       \n",
            " 8   total_cases_per_million          185 non-null    float64       \n",
            " 9   new_cases_per_million            185 non-null    float64       \n",
            " 10  total_deaths_per_million         185 non-null    float64       \n",
            " 11  new_deaths_per_million           185 non-null    float64       \n",
            " 12  total_tests                      3 non-null      float64       \n",
            " 13  new_tests                        0 non-null      float64       \n",
            " 14  total_tests_per_thousand         3 non-null      float64       \n",
            " 15  new_tests_per_thousand           0 non-null      float64       \n",
            " 16  new_tests_smoothed               7 non-null      float64       \n",
            " 17  new_tests_smoothed_per_thousand  7 non-null      float64       \n",
            " 18  tests_units                      15 non-null     object        \n",
            " 19  stringency_index                 173 non-null    float64       \n",
            " 20  population                       185 non-null    float64       \n",
            " 21  population_density               185 non-null    float64       \n",
            " 22  median_age                       185 non-null    float64       \n",
            " 23  aged_65_older                    185 non-null    float64       \n",
            " 24  aged_70_older                    185 non-null    float64       \n",
            " 25  gdp_per_capita                   185 non-null    float64       \n",
            " 26  extreme_poverty                  185 non-null    float64       \n",
            " 27  cvd_death_rate                   185 non-null    float64       \n",
            " 28  diabetes_prevalence              185 non-null    float64       \n",
            " 29  female_smokers                   185 non-null    float64       \n",
            " 30  male_smokers                     185 non-null    float64       \n",
            " 31  handwashing_facilities           0 non-null      float64       \n",
            " 32  hospital_beds_per_thousand       185 non-null    float64       \n",
            " 33  life_expectancy                  185 non-null    float64       \n",
            "dtypes: datetime64[ns](1), float64(29), object(4)\n",
            "memory usage: 50.6+ KB\n"
          ],
          "name": "stdout"
        }
      ]
    },
    {
      "cell_type": "markdown",
      "metadata": {
        "id": "d-TQllio2xvi",
        "colab_type": "text"
      },
      "source": [
        "Temos que a grande maioria das variáveis são do tipo numérica, quatro são categóricas e uma é referente a data."
      ]
    },
    {
      "cell_type": "code",
      "metadata": {
        "id": "wSHtiX8stYwS",
        "colab_type": "code",
        "colab": {
          "base_uri": "https://localhost:8080/",
          "height": 612
        },
        "outputId": "fbaa2f70-919c-48f4-80d9-9b50526a1621"
      },
      "source": [
        "# verificar a quantidade de dados faltantes\n",
        "df_brasil.isnull().mean()*100"
      ],
      "execution_count": null,
      "outputs": [
        {
          "output_type": "execute_result",
          "data": {
            "text/plain": [
              "iso_code                             0.000000\n",
              "continent                            0.000000\n",
              "location                             0.000000\n",
              "date                                 0.000000\n",
              "total_cases                          0.000000\n",
              "new_cases                            0.000000\n",
              "total_deaths                         0.000000\n",
              "new_deaths                           0.000000\n",
              "total_cases_per_million              0.000000\n",
              "new_cases_per_million                0.000000\n",
              "total_deaths_per_million             0.000000\n",
              "new_deaths_per_million               0.000000\n",
              "total_tests                         98.378378\n",
              "new_tests                          100.000000\n",
              "total_tests_per_thousand            98.378378\n",
              "new_tests_per_thousand             100.000000\n",
              "new_tests_smoothed                  96.216216\n",
              "new_tests_smoothed_per_thousand     96.216216\n",
              "tests_units                         91.891892\n",
              "stringency_index                     6.486486\n",
              "population                           0.000000\n",
              "population_density                   0.000000\n",
              "median_age                           0.000000\n",
              "aged_65_older                        0.000000\n",
              "aged_70_older                        0.000000\n",
              "gdp_per_capita                       0.000000\n",
              "extreme_poverty                      0.000000\n",
              "cvd_death_rate                       0.000000\n",
              "diabetes_prevalence                  0.000000\n",
              "female_smokers                       0.000000\n",
              "male_smokers                         0.000000\n",
              "handwashing_facilities             100.000000\n",
              "hospital_beds_per_thousand           0.000000\n",
              "life_expectancy                      0.000000\n",
              "dtype: float64"
            ]
          },
          "metadata": {
            "tags": []
          },
          "execution_count": 41
        }
      ]
    },
    {
      "cell_type": "markdown",
      "metadata": {
        "id": "7nOcvBgu2ZZl",
        "colab_type": "text"
      },
      "source": [
        "É possível identificarmos que há 8 variáveis com quase todos os valores ausentes e uma com apenas 6.48% dos dados faltantes. As demais estão todas preenchidas, o que facilita muito a análise, nos trazendo mais informações."
      ]
    },
    {
      "cell_type": "code",
      "metadata": {
        "id": "a5ZriBC4Evz6",
        "colab_type": "code",
        "colab": {
          "base_uri": "https://localhost:8080/",
          "height": 221
        },
        "outputId": "b470fb87-a6e8-4f3f-f47d-01cbbc4b2b80"
      },
      "source": [
        "# verificar que nenhuma data se repete\n",
        "df_brasil.date.unique"
      ],
      "execution_count": null,
      "outputs": [
        {
          "output_type": "execute_result",
          "data": {
            "text/plain": [
              "<bound method Series.unique of 3556   2019-12-31\n",
              "3557   2020-01-01\n",
              "3558   2020-01-02\n",
              "3559   2020-01-03\n",
              "3560   2020-01-04\n",
              "          ...    \n",
              "3736   2020-06-28\n",
              "3737   2020-06-29\n",
              "3738   2020-06-30\n",
              "3739   2020-07-01\n",
              "3740   2020-07-02\n",
              "Name: date, Length: 185, dtype: datetime64[ns]>"
            ]
          },
          "metadata": {
            "tags": []
          },
          "execution_count": 42
        }
      ]
    },
    {
      "cell_type": "markdown",
      "metadata": {
        "id": "u4eVLoRwQ47B",
        "colab_type": "text"
      },
      "source": [
        "### Vamos verificar as estatísticas gerais para os dados numéricos"
      ]
    },
    {
      "cell_type": "code",
      "metadata": {
        "id": "h3kVVr_FOKGT",
        "colab_type": "code",
        "colab": {
          "base_uri": "https://localhost:8080/",
          "height": 317
        },
        "outputId": "096f0348-bdda-45ef-a224-3a9e8e80c224"
      },
      "source": [
        "# informações estatísticas\n",
        "round(df_brasil.describe(),2)"
      ],
      "execution_count": null,
      "outputs": [
        {
          "output_type": "execute_result",
          "data": {
            "text/html": [
              "<div>\n",
              "<style scoped>\n",
              "    .dataframe tbody tr th:only-of-type {\n",
              "        vertical-align: middle;\n",
              "    }\n",
              "\n",
              "    .dataframe tbody tr th {\n",
              "        vertical-align: top;\n",
              "    }\n",
              "\n",
              "    .dataframe thead th {\n",
              "        text-align: right;\n",
              "    }\n",
              "</style>\n",
              "<table border=\"1\" class=\"dataframe\">\n",
              "  <thead>\n",
              "    <tr style=\"text-align: right;\">\n",
              "      <th></th>\n",
              "      <th>total_cases</th>\n",
              "      <th>new_cases</th>\n",
              "      <th>total_deaths</th>\n",
              "      <th>new_deaths</th>\n",
              "      <th>total_cases_per_million</th>\n",
              "      <th>new_cases_per_million</th>\n",
              "      <th>total_deaths_per_million</th>\n",
              "      <th>new_deaths_per_million</th>\n",
              "      <th>total_tests</th>\n",
              "      <th>new_tests</th>\n",
              "      <th>total_tests_per_thousand</th>\n",
              "      <th>new_tests_per_thousand</th>\n",
              "      <th>new_tests_smoothed</th>\n",
              "      <th>new_tests_smoothed_per_thousand</th>\n",
              "      <th>stringency_index</th>\n",
              "      <th>population</th>\n",
              "      <th>population_density</th>\n",
              "      <th>median_age</th>\n",
              "      <th>aged_65_older</th>\n",
              "      <th>aged_70_older</th>\n",
              "      <th>gdp_per_capita</th>\n",
              "      <th>extreme_poverty</th>\n",
              "      <th>cvd_death_rate</th>\n",
              "      <th>diabetes_prevalence</th>\n",
              "      <th>female_smokers</th>\n",
              "      <th>male_smokers</th>\n",
              "      <th>handwashing_facilities</th>\n",
              "      <th>hospital_beds_per_thousand</th>\n",
              "      <th>life_expectancy</th>\n",
              "    </tr>\n",
              "  </thead>\n",
              "  <tbody>\n",
              "    <tr>\n",
              "      <th>count</th>\n",
              "      <td>185.00</td>\n",
              "      <td>185.0</td>\n",
              "      <td>185.00</td>\n",
              "      <td>185.00</td>\n",
              "      <td>185.00</td>\n",
              "      <td>185.00</td>\n",
              "      <td>185.00</td>\n",
              "      <td>185.00</td>\n",
              "      <td>3.00</td>\n",
              "      <td>0.0</td>\n",
              "      <td>3.00</td>\n",
              "      <td>0.0</td>\n",
              "      <td>7.0</td>\n",
              "      <td>7.00</td>\n",
              "      <td>173.00</td>\n",
              "      <td>185.0</td>\n",
              "      <td>185.00</td>\n",
              "      <td>185.0</td>\n",
              "      <td>185.00</td>\n",
              "      <td>185.00</td>\n",
              "      <td>185.00</td>\n",
              "      <td>185.0</td>\n",
              "      <td>185.00</td>\n",
              "      <td>185.00</td>\n",
              "      <td>185.0</td>\n",
              "      <td>185.0</td>\n",
              "      <td>0.0</td>\n",
              "      <td>185.0</td>\n",
              "      <td>185.00</td>\n",
              "    </tr>\n",
              "    <tr>\n",
              "      <th>mean</th>\n",
              "      <td>208738.80</td>\n",
              "      <td>7831.1</td>\n",
              "      <td>10751.88</td>\n",
              "      <td>327.74</td>\n",
              "      <td>982.03</td>\n",
              "      <td>36.84</td>\n",
              "      <td>50.58</td>\n",
              "      <td>1.54</td>\n",
              "      <td>226817.33</td>\n",
              "      <td>NaN</td>\n",
              "      <td>1.07</td>\n",
              "      <td>NaN</td>\n",
              "      <td>5345.0</td>\n",
              "      <td>0.02</td>\n",
              "      <td>45.73</td>\n",
              "      <td>212559409.0</td>\n",
              "      <td>25.04</td>\n",
              "      <td>33.5</td>\n",
              "      <td>8.55</td>\n",
              "      <td>5.06</td>\n",
              "      <td>14103.45</td>\n",
              "      <td>3.4</td>\n",
              "      <td>177.96</td>\n",
              "      <td>8.11</td>\n",
              "      <td>10.1</td>\n",
              "      <td>17.9</td>\n",
              "      <td>NaN</td>\n",
              "      <td>2.2</td>\n",
              "      <td>75.88</td>\n",
              "    </tr>\n",
              "    <tr>\n",
              "      <th>std</th>\n",
              "      <td>369080.55</td>\n",
              "      <td>12225.7</td>\n",
              "      <td>17410.96</td>\n",
              "      <td>440.23</td>\n",
              "      <td>1736.36</td>\n",
              "      <td>57.52</td>\n",
              "      <td>81.91</td>\n",
              "      <td>2.07</td>\n",
              "      <td>226275.62</td>\n",
              "      <td>NaN</td>\n",
              "      <td>1.06</td>\n",
              "      <td>NaN</td>\n",
              "      <td>0.0</td>\n",
              "      <td>0.00</td>\n",
              "      <td>35.59</td>\n",
              "      <td>0.0</td>\n",
              "      <td>0.00</td>\n",
              "      <td>0.0</td>\n",
              "      <td>0.00</td>\n",
              "      <td>0.00</td>\n",
              "      <td>0.00</td>\n",
              "      <td>0.0</td>\n",
              "      <td>0.00</td>\n",
              "      <td>0.00</td>\n",
              "      <td>0.0</td>\n",
              "      <td>0.0</td>\n",
              "      <td>NaN</td>\n",
              "      <td>0.0</td>\n",
              "      <td>0.00</td>\n",
              "    </tr>\n",
              "    <tr>\n",
              "      <th>min</th>\n",
              "      <td>0.00</td>\n",
              "      <td>0.0</td>\n",
              "      <td>0.00</td>\n",
              "      <td>0.00</td>\n",
              "      <td>0.00</td>\n",
              "      <td>0.00</td>\n",
              "      <td>0.00</td>\n",
              "      <td>0.00</td>\n",
              "      <td>62985.00</td>\n",
              "      <td>NaN</td>\n",
              "      <td>0.30</td>\n",
              "      <td>NaN</td>\n",
              "      <td>5345.0</td>\n",
              "      <td>0.02</td>\n",
              "      <td>0.00</td>\n",
              "      <td>212559409.0</td>\n",
              "      <td>25.04</td>\n",
              "      <td>33.5</td>\n",
              "      <td>8.55</td>\n",
              "      <td>5.06</td>\n",
              "      <td>14103.45</td>\n",
              "      <td>3.4</td>\n",
              "      <td>177.96</td>\n",
              "      <td>8.11</td>\n",
              "      <td>10.1</td>\n",
              "      <td>17.9</td>\n",
              "      <td>NaN</td>\n",
              "      <td>2.2</td>\n",
              "      <td>75.88</td>\n",
              "    </tr>\n",
              "    <tr>\n",
              "      <th>25%</th>\n",
              "      <td>0.00</td>\n",
              "      <td>0.0</td>\n",
              "      <td>0.00</td>\n",
              "      <td>0.00</td>\n",
              "      <td>0.00</td>\n",
              "      <td>0.00</td>\n",
              "      <td>0.00</td>\n",
              "      <td>0.00</td>\n",
              "      <td>97726.00</td>\n",
              "      <td>NaN</td>\n",
              "      <td>0.46</td>\n",
              "      <td>NaN</td>\n",
              "      <td>5345.0</td>\n",
              "      <td>0.02</td>\n",
              "      <td>5.56</td>\n",
              "      <td>212559409.0</td>\n",
              "      <td>25.04</td>\n",
              "      <td>33.5</td>\n",
              "      <td>8.55</td>\n",
              "      <td>5.06</td>\n",
              "      <td>14103.45</td>\n",
              "      <td>3.4</td>\n",
              "      <td>177.96</td>\n",
              "      <td>8.11</td>\n",
              "      <td>10.1</td>\n",
              "      <td>17.9</td>\n",
              "      <td>NaN</td>\n",
              "      <td>2.2</td>\n",
              "      <td>75.88</td>\n",
              "    </tr>\n",
              "    <tr>\n",
              "      <th>50%</th>\n",
              "      <td>5717.00</td>\n",
              "      <td>852.0</td>\n",
              "      <td>201.00</td>\n",
              "      <td>40.00</td>\n",
              "      <td>26.90</td>\n",
              "      <td>4.01</td>\n",
              "      <td>0.95</td>\n",
              "      <td>0.19</td>\n",
              "      <td>132467.00</td>\n",
              "      <td>NaN</td>\n",
              "      <td>0.62</td>\n",
              "      <td>NaN</td>\n",
              "      <td>5345.0</td>\n",
              "      <td>0.02</td>\n",
              "      <td>74.54</td>\n",
              "      <td>212559409.0</td>\n",
              "      <td>25.04</td>\n",
              "      <td>33.5</td>\n",
              "      <td>8.55</td>\n",
              "      <td>5.06</td>\n",
              "      <td>14103.45</td>\n",
              "      <td>3.4</td>\n",
              "      <td>177.96</td>\n",
              "      <td>8.11</td>\n",
              "      <td>10.1</td>\n",
              "      <td>17.9</td>\n",
              "      <td>NaN</td>\n",
              "      <td>2.2</td>\n",
              "      <td>75.88</td>\n",
              "    </tr>\n",
              "    <tr>\n",
              "      <th>75%</th>\n",
              "      <td>233142.00</td>\n",
              "      <td>11687.0</td>\n",
              "      <td>15633.00</td>\n",
              "      <td>627.00</td>\n",
              "      <td>1096.83</td>\n",
              "      <td>54.98</td>\n",
              "      <td>73.55</td>\n",
              "      <td>2.95</td>\n",
              "      <td>308733.50</td>\n",
              "      <td>NaN</td>\n",
              "      <td>1.45</td>\n",
              "      <td>NaN</td>\n",
              "      <td>5345.0</td>\n",
              "      <td>0.02</td>\n",
              "      <td>77.31</td>\n",
              "      <td>212559409.0</td>\n",
              "      <td>25.04</td>\n",
              "      <td>33.5</td>\n",
              "      <td>8.55</td>\n",
              "      <td>5.06</td>\n",
              "      <td>14103.45</td>\n",
              "      <td>3.4</td>\n",
              "      <td>177.96</td>\n",
              "      <td>8.11</td>\n",
              "      <td>10.1</td>\n",
              "      <td>17.9</td>\n",
              "      <td>NaN</td>\n",
              "      <td>2.2</td>\n",
              "      <td>75.88</td>\n",
              "    </tr>\n",
              "    <tr>\n",
              "      <th>max</th>\n",
              "      <td>1448753.00</td>\n",
              "      <td>54771.0</td>\n",
              "      <td>60632.00</td>\n",
              "      <td>1473.00</td>\n",
              "      <td>6815.76</td>\n",
              "      <td>257.67</td>\n",
              "      <td>285.25</td>\n",
              "      <td>6.93</td>\n",
              "      <td>485000.00</td>\n",
              "      <td>NaN</td>\n",
              "      <td>2.28</td>\n",
              "      <td>NaN</td>\n",
              "      <td>5345.0</td>\n",
              "      <td>0.02</td>\n",
              "      <td>81.02</td>\n",
              "      <td>212559409.0</td>\n",
              "      <td>25.04</td>\n",
              "      <td>33.5</td>\n",
              "      <td>8.55</td>\n",
              "      <td>5.06</td>\n",
              "      <td>14103.45</td>\n",
              "      <td>3.4</td>\n",
              "      <td>177.96</td>\n",
              "      <td>8.11</td>\n",
              "      <td>10.1</td>\n",
              "      <td>17.9</td>\n",
              "      <td>NaN</td>\n",
              "      <td>2.2</td>\n",
              "      <td>75.88</td>\n",
              "    </tr>\n",
              "  </tbody>\n",
              "</table>\n",
              "</div>"
            ],
            "text/plain": [
              "       total_cases  new_cases  ...  hospital_beds_per_thousand  life_expectancy\n",
              "count       185.00      185.0  ...                       185.0           185.00\n",
              "mean     208738.80     7831.1  ...                         2.2            75.88\n",
              "std      369080.55    12225.7  ...                         0.0             0.00\n",
              "min           0.00        0.0  ...                         2.2            75.88\n",
              "25%           0.00        0.0  ...                         2.2            75.88\n",
              "50%        5717.00      852.0  ...                         2.2            75.88\n",
              "75%      233142.00    11687.0  ...                         2.2            75.88\n",
              "max     1448753.00    54771.0  ...                         2.2            75.88\n",
              "\n",
              "[8 rows x 29 columns]"
            ]
          },
          "metadata": {
            "tags": []
          },
          "execution_count": 43
        }
      ]
    },
    {
      "cell_type": "markdown",
      "metadata": {
        "id": "eCDTa3YAOmaB",
        "colab_type": "text"
      },
      "source": [
        "Com base na tabela acima, podemos identificar que 25% dos dados iniciais, ainda não havia o registro de casos e nem mortes por Covid-19 no Brasil. Contudo, verificamos a evidência de valores muito alto para os desvios padrões dessa variáveis, o que torna os dados bastante dispersos."
      ]
    },
    {
      "cell_type": "markdown",
      "metadata": {
        "id": "5xTROf9pS07V",
        "colab_type": "text"
      },
      "source": [
        "### Iremos plotar a seguir, algumas distribuições de interesse para as variáveis numéricas"
      ]
    },
    {
      "cell_type": "code",
      "metadata": {
        "id": "fiRP2KMpSj-Y",
        "colab_type": "code",
        "colab": {
          "base_uri": "https://localhost:8080/",
          "height": 499
        },
        "outputId": "94e0d87c-36bf-411d-d09f-344db1b5ba74"
      },
      "source": [
        "# histogramas para as variáveis de interesse\n",
        "dist = ['total_cases','new_cases','total_deaths','new_deaths','total_cases_per_million','new_cases_per_million','total_deaths_per_million','new_deaths_per_million','stringency_index']\n",
        "df_brasil[dist].hist(figsize=(16,8));"
      ],
      "execution_count": null,
      "outputs": [
        {
          "output_type": "display_data",
          "data": {
            "image/png": "[encoded data removed]",
            "text/plain": [
              "<Figure size 1152x576 with 9 Axes>"
            ]
          },
          "metadata": {
            "tags": []
          }
        }
      ]
    },
    {
      "cell_type": "markdown",
      "metadata": {
        "id": "vhRVMig3UhTu",
        "colab_type": "text"
      },
      "source": [
        "O histograma acima, nos permite identificar as maiores concentrações de valores para cada variável, que na maioria delas possuem uma assimetria a direita, exceto a variável `stringency_index`. E em todas elas, há índices da presença de *outliers*. "
      ]
    },
    {
      "cell_type": "markdown",
      "metadata": {
        "id": "DgqVP4TRNk9y",
        "colab_type": "text"
      },
      "source": [
        "### **Q6. Quando foi registrado o primeiro caso de Covid-19 no Brasil?**"
      ]
    },
    {
      "cell_type": "code",
      "metadata": {
        "id": "sD2HZPoYHr4q",
        "colab_type": "code",
        "colab": {
          "base_uri": "https://localhost:8080/",
          "height": 85
        },
        "outputId": "7d5aebc9-476e-47d6-e57c-264d9dcefae7"
      },
      "source": [
        "for i in range(len(df_brasil['total_cases'].values)):\n",
        "  if df_brasil['total_cases'].values[i] != 0:\n",
        "    print(df_brasil.loc[df_brasil['total_cases'].index[i],['date','total_cases','new_cases']])\n",
        "    break"
      ],
      "execution_count": null,
      "outputs": [
        {
          "output_type": "stream",
          "text": [
            "date           2020-02-26 00:00:00\n",
            "total_cases                      1\n",
            "new_cases                        1\n",
            "Name: 3613, dtype: object\n"
          ],
          "name": "stdout"
        }
      ]
    },
    {
      "cell_type": "markdown",
      "metadata": {
        "id": "aXVxLRooQmA7",
        "colab_type": "text"
      },
      "source": [
        "O primeiro caso de *coronavírus* no Brasil ocorreu dia 26 de fevereiro de 2020."
      ]
    },
    {
      "cell_type": "markdown",
      "metadata": {
        "id": "EGSIMI_ZQ4YC",
        "colab_type": "text"
      },
      "source": [
        "### **Q7. Quando foi registrado a primeira morte por Covid-19 no Brasil?**"
      ]
    },
    {
      "cell_type": "code",
      "metadata": {
        "id": "ITbc7X1I3uhi",
        "colab_type": "code",
        "colab": {
          "base_uri": "https://localhost:8080/",
          "height": 85
        },
        "outputId": "4d3a6c56-671a-4a9b-c46c-21bf2492891f"
      },
      "source": [
        "for i in range(len(df_brasil['total_deaths'].values)):\n",
        "  if df_brasil['total_deaths'].values[i] != 0:\n",
        "    print(df_brasil.loc[df_brasil['total_deaths'].index[i],['date','total_deaths','new_deaths']])\n",
        "    break"
      ],
      "execution_count": null,
      "outputs": [
        {
          "output_type": "stream",
          "text": [
            "date            2020-03-18 00:00:00\n",
            "total_deaths                      1\n",
            "new_deaths                        1\n",
            "Name: 3634, dtype: object\n"
          ],
          "name": "stdout"
        }
      ]
    },
    {
      "cell_type": "markdown",
      "metadata": {
        "id": "cAi29OruUxPk",
        "colab_type": "text"
      },
      "source": [
        "A primeira morte por *coronavírus* no Brasil aconteceu no dia 18 de março de 2020"
      ]
    },
    {
      "cell_type": "code",
      "metadata": {
        "id": "7vKs9uMKVaH-",
        "colab_type": "code",
        "colab": {
          "base_uri": "https://localhost:8080/",
          "height": 34
        },
        "outputId": "5c02920d-3c7b-41c5-a1aa-a60417f6009d"
      },
      "source": [
        "df_brasil.loc[3634, 'date'] - df_brasil.loc[3613, 'date']"
      ],
      "execution_count": null,
      "outputs": [
        {
          "output_type": "execute_result",
          "data": {
            "text/plain": [
              "Timedelta('21 days 00:00:00')"
            ]
          },
          "metadata": {
            "tags": []
          },
          "execution_count": 47
        }
      ]
    },
    {
      "cell_type": "markdown",
      "metadata": {
        "id": "KANvBR0QVIbf",
        "colab_type": "text"
      },
      "source": [
        "Com base nas informações acima, temos que após o registro do primeiro caso de Covid-19 no Brasil, levou-se 21 dias para o registro da primeria morte, ou seja, o avanço da doença foi muito rápido, causando muitas preocupações para os médicos e demais profissionais da saúde."
      ]
    },
    {
      "cell_type": "markdown",
      "metadata": {
        "id": "F5UUTGWBe1ba",
        "colab_type": "text"
      },
      "source": [
        "### **Q8. Qual a quantidade total de casos de coronavírus para a data mais atual do DataFrame?**"
      ]
    },
    {
      "cell_type": "code",
      "metadata": {
        "id": "uNhLTocNeBKY",
        "colab_type": "code",
        "colab": {
          "base_uri": "https://localhost:8080/",
          "height": 475
        },
        "outputId": "b65044eb-625b-4635-a8f2-c944c246847f"
      },
      "source": [
        "# série do total de casos de Covid-19 no Brasil\n",
        "plt.figure(figsize=(16,7))\n",
        "plt.title('Série de registros do total de casos de Covid-19 para o Brasil')\n",
        "sns.lineplot(x=df_brasil.date,y=df_brasil.total_cases);\n",
        "print(df_brasil.total_cases.max())"
      ],
      "execution_count": null,
      "outputs": [
        {
          "output_type": "stream",
          "text": [
            "1448753.0\n"
          ],
          "name": "stdout"
        },
        {
          "output_type": "display_data",
          "data": {
            "image/png": "[encoded data removed]",
            "text/plain": [
              "<Figure size 1152x504 with 1 Axes>"
            ]
          },
          "metadata": {
            "tags": []
          }
        }
      ]
    },
    {
      "cell_type": "markdown",
      "metadata": {
        "id": "aa0ljQ46gg4m",
        "colab_type": "text"
      },
      "source": [
        "É possível perceber que a quantidade de casos de Covid-19 no Brasil cresceu exponencialmente desde o final do ano de 2019 até o dia 02 de julho de 2020, ao qual foram registrados um total de 1.448.753 testes positivos. "
      ]
    },
    {
      "cell_type": "markdown",
      "metadata": {
        "id": "-tD_AlJm7iE6",
        "colab_type": "text"
      },
      "source": [
        "### **Q9. Qual a quantidade total de mortes por coronavírus para a data mais atual do DataFrame?**"
      ]
    },
    {
      "cell_type": "code",
      "metadata": {
        "id": "6jJKuhUy7thm",
        "colab_type": "code",
        "colab": {
          "base_uri": "https://localhost:8080/",
          "height": 475
        },
        "outputId": "dbd285fb-c2f3-4e10-f14c-239618ebd4e5"
      },
      "source": [
        "# série do total de mortes por Covid-19 no Brasil\n",
        "plt.figure(figsize=(16,7))\n",
        "plt.title('Série de registros do total de mortes por Covid-19 para o Brasil')\n",
        "sns.lineplot(x=df_brasil.date,y=df_brasil.total_deaths);\n",
        "print(df_brasil.total_deaths.max())"
      ],
      "execution_count": null,
      "outputs": [
        {
          "output_type": "stream",
          "text": [
            "60632.0\n"
          ],
          "name": "stdout"
        },
        {
          "output_type": "display_data",
          "data": {
            "image/png": "[encoded data removed]",
            "text/plain": [
              "<Figure size 1152x504 with 1 Axes>"
            ]
          },
          "metadata": {
            "tags": []
          }
        }
      ]
    },
    {
      "cell_type": "markdown",
      "metadata": {
        "id": "ICHDiQmo8DzE",
        "colab_type": "text"
      },
      "source": [
        "O gráfico acima, retrata o total de mortes por Covid-19 no Brasil. No dia 02 de julho de 2020 esse valor já representava 60.632 óbitos. Uma situação muito agravante para o país."
      ]
    },
    {
      "cell_type": "markdown",
      "metadata": {
        "id": "AJrlMQlhfLhN",
        "colab_type": "text"
      },
      "source": [
        "### **Q10. Qual dia foi registrado o maior número de novos casos de Covid-19 no Brasil?**"
      ]
    },
    {
      "cell_type": "code",
      "metadata": {
        "id": "os2KMmd2fZ-L",
        "colab_type": "code",
        "colab": {
          "base_uri": "https://localhost:8080/",
          "height": 509
        },
        "outputId": "cbb9be9d-0e44-483f-edf3-9ec0ae9f043c"
      },
      "source": [
        "# série dos novos casos de Covid-19 no Brasil\n",
        "plt.figure(figsize=(16,7))\n",
        "plt.title('Série de registros de novos de casos de Covid-19 para o Brasil')\n",
        "sns.lineplot(x=df_brasil.date,y=df_brasil.new_cases);\n",
        "print(df_brasil.new_cases.max())\n",
        "print(df_brasil[df_brasil['new_cases']==df_brasil.new_cases.max()]['date'])"
      ],
      "execution_count": null,
      "outputs": [
        {
          "output_type": "stream",
          "text": [
            "54771.0\n",
            "3728   2020-06-20\n",
            "Name: date, dtype: datetime64[ns]\n"
          ],
          "name": "stdout"
        },
        {
          "output_type": "display_data",
          "data": {
            "image/png": "[encoded data removed]",
            "text/plain": [
              "<Figure size 1152x504 with 1 Axes>"
            ]
          },
          "metadata": {
            "tags": []
          }
        }
      ]
    },
    {
      "cell_type": "markdown",
      "metadata": {
        "id": "MLfvbDeEkqYk",
        "colab_type": "text"
      },
      "source": [
        "A data em que foi registrado o maior número de testes positivos do coronavírus no Brasil foi no dia 20 de junho de 2020, com um total de 54.771 casos."
      ]
    },
    {
      "cell_type": "markdown",
      "metadata": {
        "id": "nVjyvR5yfZjE",
        "colab_type": "text"
      },
      "source": [
        "### **Q11. Qual dia foi registrado o maior número de novas de mortes por Covid-19 no Brasil?**"
      ]
    },
    {
      "cell_type": "code",
      "metadata": {
        "id": "5tHsO-JFhx44",
        "colab_type": "code",
        "colab": {
          "base_uri": "https://localhost:8080/",
          "height": 509
        },
        "outputId": "ed031050-438b-4885-b4f4-2c6de8624b8b"
      },
      "source": [
        "# série do novos óbitos por Covid-19 no Brasil\n",
        "plt.figure(figsize=(16,7))\n",
        "plt.title('Série de registros de novos óbitos por Covid-19 para o Brasil')\n",
        "sns.lineplot(x=df_brasil.date,y=df_brasil.new_deaths);\n",
        "print(df_brasil.new_deaths.max())\n",
        "print(df_brasil[df_brasil['new_deaths']==df_brasil.new_deaths.max()]['date'])"
      ],
      "execution_count": null,
      "outputs": [
        {
          "output_type": "stream",
          "text": [
            "1473.0\n",
            "3713   2020-06-05\n",
            "Name: date, dtype: datetime64[ns]\n"
          ],
          "name": "stdout"
        },
        {
          "output_type": "display_data",
          "data": {
            "image/png": "[encoded data removed]",
            "text/plain": [
              "<Figure size 1152x504 with 1 Axes>"
            ]
          },
          "metadata": {
            "tags": []
          }
        }
      ]
    },
    {
      "cell_type": "markdown",
      "metadata": {
        "id": "2aQr0416mCaE",
        "colab_type": "text"
      },
      "source": [
        "05 de junho foi a data em que houve o maior número de óbitos no dia, contabilizando um total de 1473 mortes."
      ]
    },
    {
      "cell_type": "markdown",
      "metadata": {
        "id": "AB2PfbiI9ZO2",
        "colab_type": "text"
      },
      "source": [
        "### **Q12. Como se deu o nível de estringência de resposta governamental no Brasil?** "
      ]
    },
    {
      "cell_type": "code",
      "metadata": {
        "id": "F9pTI3TT9wyr",
        "colab_type": "code",
        "colab": {
          "base_uri": "https://localhost:8080/",
          "height": 477
        },
        "outputId": "0ee3d68c-bde8-41fd-8a65-325ef9c516c9"
      },
      "source": [
        "# série para índice de estringência\n",
        "plt.figure(figsize=(16,7))\n",
        "plt.title('Índice de estringência de resposta governamental por dia')\n",
        "sns.lineplot(x=df_brasil.date,y=df_brasil.stringency_index);\n",
        "print(df_brasil.stringency_index.max())"
      ],
      "execution_count": null,
      "outputs": [
        {
          "output_type": "stream",
          "text": [
            "81.02\n"
          ],
          "name": "stdout"
        },
        {
          "output_type": "display_data",
          "data": {
            "image/png": "[encoded data removed]",
            "text/plain": [
              "<Figure size 1152x504 with 1 Axes>"
            ]
          },
          "metadata": {
            "tags": []
          }
        }
      ]
    },
    {
      "cell_type": "markdown",
      "metadata": {
        "id": "iqbNOIOJ_TOT",
        "colab_type": "text"
      },
      "source": [
        "O índice de estringência de resposta governamental é uma medida composta por 9 indicadores para encerramentos de escolas, trabalhos, proibições de viagens, entre outros, ao qual o índice igual a 100 é a resposta mais estrita.\n",
        "\n",
        "Como podemos conferir na série acima, o Brasil manteve baixo o nível de estringência até o final de fevereiro. Com o surgimento do primeiro caso, ao passo que a situação foi se agravando, medidas mais drásticas foram tomadas, tais como o encerramento das atividades para os comércios, universidades, escolas, entre outros. Aconselhando a realização do isolamento social e decretando o uso obrigatório de máscaras. Tendo como índice máximo de estringência para o Brasil, o valor de 81.02, numa escala de 0 à 100. Podendo verificar esse nível para o período do mês de maio de 2020."
      ]
    },
    {
      "cell_type": "markdown",
      "metadata": {
        "id": "6vmxAwgGuN37",
        "colab_type": "text"
      },
      "source": [
        "## **Conclusões:**\n",
        "\n",
        "A análise exploratória realizada, nos permitiu identificar o tipo de cada variável, suas distribuições, a quantidade de valores ausentes e a presença de *outliers* nos dados (que nesse caso tem um significado específico, por ser tratar de informações reais e não erro na coleta).\n",
        "\n",
        "**Com isso, durante um período de 185 dias, obtivemos os seguintes insights sobre o Covid-19 no cenário global:**\n",
        "\n",
        "* De 31/12/2019 à meados de março, foram registrados os menores índices de contaminação, mas por ser algo diário, significa muito. A partir desse período, a quantidade de novos casos identificados no dia passou a crescer constantemente, o que impulsionou na tomada de medidas mais drásticas ao redor do mundo para tentar conter o avanço dessa doença, mas que ainda não deixou de se expandir.\n",
        "\n",
        "* Em relação a óbitos diários para Covid-19, vê-se que de dezembro de 2019 à 23 de janeiro, a quantidade de mortes não havia ultrapassado de 11 por dia. A partir dessa data, os índices aumentaram muito, chegando ao pico de aproximadamente 10500 mortes em um único dia, no meio do mês de abril de 2020. Dessa período em diante, a quantidade de óbitos diminuiu perante ao maior valor da série, mas ainda há um registro muito alto de falecimento até 02 de julho de 2020.\n",
        "\n",
        "* Os 3 países que possuem mais casos para Covid-19 até dia 02 de julho de 2020 são: *Estados Unidos, Brasil e Russia.*\n",
        "\n",
        "* Os 3 países que possuem mais mortes para Covid-19 até dia 02 de julho de 2020 são: *Estados Unidos, Brasil e Reino Unido.*\n",
        "\n",
        "* Agora os 3 lugares que tiveram o menor índice de mortes por coronavírus foram: *Polinésia Francesa*, *Cambodja* e *Timor*, ao qual, até dia 02 de julho de 2020 não havia registrado nenhum óbito pela doença.\n",
        "\n",
        "* Mônaco é o lugar com maior disponibilidade de leitos hospitalares, com cerca de 13.8 para cada 1000 pessoas e a quantidade de casos para este lugar é baixa, apenas 103 até dia 02 de julho de 2020 com 5 mortes registradas.\n",
        "\n",
        "**Para o cenário brasileiro, obtivemos os seguintes resultados:**\n",
        "\n",
        "* O primeiro caso de coronavírus ocorreu dia 26 de fevereiro de 2020\n",
        "\n",
        "* A primeira morte por coronavírus aconteceu no dia 18 de março de 2020\n",
        "\n",
        "* Após o registro do primeiro caso de Covid-19 no Brasil, levou-se 21 dias para o registro da primeria morte, ou seja, o avanço da doença foi muito rápido, causando muitas preocupações para os médicos e demais profissionais da saúde.\n",
        "\n",
        "* Na última data de coleta dos dados o Brasil estava com um total de 1.448.753 testes positivos e 60.632 óbitos.\n",
        "\n",
        "* O maior número de testes positivos de coronavírus foi no dia 20 de junho de 2020, com um total de 54.771 casos.\n",
        "\n",
        "* 05 de junho foi a data em que houve o maior número de óbitos no dia, contabilizando um total de 1473 mortes.\n",
        "\n",
        "* Por fim, temos que o Brasil manteve baixo o nível de estringência até o final de fevereiro. Com o surgimento do primeiro caso, ao passo que a situação foi se agravando, medidas mais drásticas foram tomadas, tais como o encerramento das atividades para os comércios, universidades, escolas, entre outros. Aconselhando a realização do isolamento social e decretando o uso obrigatório de máscaras. Tendo como índice máximo de estringência para o Brasil, o valor de 81.02, numa escala de 0 à 100. Podendo verificar esse nível para o período do mês de maio de 2020.\n",
        "\n",
        "\n"
      ]
    },
    {
      "cell_type": "markdown",
      "metadata": {
        "id": "iTkJLtljfGDZ",
        "colab_type": "text"
      },
      "source": [
        "Para saber mais infomações sobre Data Science e divulgação de projetos, me acompanhem no [linkedIn](https://www.linkedin.com/in/marcos-costa-4058b1167/) e sigam meu blog no [medium](https://medium.com/@marcoscosta1475)."
      ]
    }
  ]
}
